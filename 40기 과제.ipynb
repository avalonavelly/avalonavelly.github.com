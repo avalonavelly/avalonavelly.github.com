{
  "nbformat": 4,
  "nbformat_minor": 0,
  "metadata": {
    "colab": {
      "name": "Stock_prediction.ipynb",
      "provenance": [],
      "collapsed_sections": [],
      "authorship_tag": "ABX9TyOipugZTM4SvNMOm68boEtP",
      "include_colab_link": true
    },
    "kernelspec": {
      "name": "python3",
      "display_name": "Python 3"
    },
    "language_info": {
      "name": "python"
    }
  },
  "cells": [
    {
      "cell_type": "markdown",
      "metadata": {
        "id": "view-in-github",
        "colab_type": "text"
      },
      "source": [
        "<a href=\"https://colab.research.google.com/github/avalonavelly/avalonavelly.github.com/blob/main/40%EA%B8%B0%20%EA%B3%BC%EC%A0%9C.ipynb\" target=\"_parent\"><img src=\"https://colab.research.google.com/assets/colab-badge.svg\" alt=\"Open In Colab\"/></a>"
      ]
    },
    {
      "cell_type": "markdown",
      "metadata": {
        "id": "lXKzgOzo9Yy0"
      },
      "source": [
        "# 1. Collect the stock data"
      ]
    },
    {
      "cell_type": "code",
      "metadata": {
        "id": "gCgMxbhvzg8U"
      },
      "source": [
        "import pandas_datareader as pdr\n",
        "\n",
        "df = pdr.get_data_tiingo('AAPL', api_key=\"3de1ada35851c6f24b413fbba03d523301d64bcc\")\n",
        "df\n",
        "#굳이 csv로 바꾸는 이유는 Tiingo api는 하루에 50번만 부를 수 있음. 그런데 이렇게 csv로 바꾸면 무제한으로 부를 수 있기 때문.\n",
        "df.to_csv('AAPL.csv')"
      ],
      "execution_count": 2,
      "outputs": []
    },
    {
      "cell_type": "code",
      "metadata": {
        "id": "oAlFGwRvQ4lB"
      },
      "source": [
        ""
      ],
      "execution_count": null,
      "outputs": []
    },
    {
      "cell_type": "code",
      "metadata": {
        "id": "mm59Q6rNQzju"
      },
      "source": [
        ""
      ],
      "execution_count": null,
      "outputs": []
    },
    {
      "cell_type": "code",
      "metadata": {
        "colab": {
          "base_uri": "https://localhost:8080/",
          "height": 308
        },
        "id": "uw9Hmz133j4Y",
        "outputId": "f64ce6ba-0008-4fc3-e806-c051e156e6bf"
      },
      "source": [
        "import pandas as pd\n",
        "df = pd.read_csv('AAPL.csv')\n",
        "df\n",
        "df.head()\n",
        "df.tail()"
      ],
      "execution_count": 3,
      "outputs": [
        {
          "output_type": "execute_result",
          "data": {
            "text/html": [
              "<div>\n",
              "<style scoped>\n",
              "    .dataframe tbody tr th:only-of-type {\n",
              "        vertical-align: middle;\n",
              "    }\n",
              "\n",
              "    .dataframe tbody tr th {\n",
              "        vertical-align: top;\n",
              "    }\n",
              "\n",
              "    .dataframe thead th {\n",
              "        text-align: right;\n",
              "    }\n",
              "</style>\n",
              "<table border=\"1\" class=\"dataframe\">\n",
              "  <thead>\n",
              "    <tr style=\"text-align: right;\">\n",
              "      <th></th>\n",
              "      <th>symbol</th>\n",
              "      <th>date</th>\n",
              "      <th>close</th>\n",
              "      <th>high</th>\n",
              "      <th>low</th>\n",
              "      <th>open</th>\n",
              "      <th>volume</th>\n",
              "      <th>adjClose</th>\n",
              "      <th>adjHigh</th>\n",
              "      <th>adjLow</th>\n",
              "      <th>adjOpen</th>\n",
              "      <th>adjVolume</th>\n",
              "      <th>divCash</th>\n",
              "      <th>splitFactor</th>\n",
              "    </tr>\n",
              "  </thead>\n",
              "  <tbody>\n",
              "    <tr>\n",
              "      <th>1253</th>\n",
              "      <td>AAPL</td>\n",
              "      <td>2021-05-07 00:00:00+00:00</td>\n",
              "      <td>130.21</td>\n",
              "      <td>131.2582</td>\n",
              "      <td>129.475</td>\n",
              "      <td>130.85</td>\n",
              "      <td>78973273</td>\n",
              "      <td>130.21</td>\n",
              "      <td>131.2582</td>\n",
              "      <td>129.475</td>\n",
              "      <td>130.85</td>\n",
              "      <td>78973273</td>\n",
              "      <td>0.22</td>\n",
              "      <td>1.0</td>\n",
              "    </tr>\n",
              "    <tr>\n",
              "      <th>1254</th>\n",
              "      <td>AAPL</td>\n",
              "      <td>2021-05-10 00:00:00+00:00</td>\n",
              "      <td>126.85</td>\n",
              "      <td>129.5400</td>\n",
              "      <td>126.810</td>\n",
              "      <td>129.41</td>\n",
              "      <td>88071229</td>\n",
              "      <td>126.85</td>\n",
              "      <td>129.5400</td>\n",
              "      <td>126.810</td>\n",
              "      <td>129.41</td>\n",
              "      <td>88071229</td>\n",
              "      <td>0.00</td>\n",
              "      <td>1.0</td>\n",
              "    </tr>\n",
              "    <tr>\n",
              "      <th>1255</th>\n",
              "      <td>AAPL</td>\n",
              "      <td>2021-05-11 00:00:00+00:00</td>\n",
              "      <td>125.91</td>\n",
              "      <td>126.2700</td>\n",
              "      <td>122.770</td>\n",
              "      <td>123.50</td>\n",
              "      <td>126142826</td>\n",
              "      <td>125.91</td>\n",
              "      <td>126.2700</td>\n",
              "      <td>122.770</td>\n",
              "      <td>123.50</td>\n",
              "      <td>126142826</td>\n",
              "      <td>0.00</td>\n",
              "      <td>1.0</td>\n",
              "    </tr>\n",
              "    <tr>\n",
              "      <th>1256</th>\n",
              "      <td>AAPL</td>\n",
              "      <td>2021-05-12 00:00:00+00:00</td>\n",
              "      <td>122.77</td>\n",
              "      <td>124.6400</td>\n",
              "      <td>122.250</td>\n",
              "      <td>123.40</td>\n",
              "      <td>112172282</td>\n",
              "      <td>122.77</td>\n",
              "      <td>124.6400</td>\n",
              "      <td>122.250</td>\n",
              "      <td>123.40</td>\n",
              "      <td>112172282</td>\n",
              "      <td>0.00</td>\n",
              "      <td>1.0</td>\n",
              "    </tr>\n",
              "    <tr>\n",
              "      <th>1257</th>\n",
              "      <td>AAPL</td>\n",
              "      <td>2021-05-13 00:00:00+00:00</td>\n",
              "      <td>124.97</td>\n",
              "      <td>126.1500</td>\n",
              "      <td>124.260</td>\n",
              "      <td>124.58</td>\n",
              "      <td>105861339</td>\n",
              "      <td>124.97</td>\n",
              "      <td>126.1500</td>\n",
              "      <td>124.260</td>\n",
              "      <td>124.58</td>\n",
              "      <td>105861339</td>\n",
              "      <td>0.00</td>\n",
              "      <td>1.0</td>\n",
              "    </tr>\n",
              "  </tbody>\n",
              "</table>\n",
              "</div>"
            ],
            "text/plain": [
              "     symbol                       date   close  ...  adjVolume  divCash  splitFactor\n",
              "1253   AAPL  2021-05-07 00:00:00+00:00  130.21  ...   78973273     0.22          1.0\n",
              "1254   AAPL  2021-05-10 00:00:00+00:00  126.85  ...   88071229     0.00          1.0\n",
              "1255   AAPL  2021-05-11 00:00:00+00:00  125.91  ...  126142826     0.00          1.0\n",
              "1256   AAPL  2021-05-12 00:00:00+00:00  122.77  ...  112172282     0.00          1.0\n",
              "1257   AAPL  2021-05-13 00:00:00+00:00  124.97  ...  105861339     0.00          1.0\n",
              "\n",
              "[5 rows x 14 columns]"
            ]
          },
          "metadata": {
            "tags": []
          },
          "execution_count": 3
        }
      ]
    },
    {
      "cell_type": "code",
      "metadata": {
        "colab": {
          "base_uri": "https://localhost:8080/"
        },
        "id": "PQJISNS14uMA",
        "outputId": "4150dd4e-bf27-43a5-a6e5-20c4e1bb73ac"
      },
      "source": [
        "#close칼럼을 고르자 \n",
        "df1 = df.reset_index()['close']\n",
        "df1\n",
        "df1.shape"
      ],
      "execution_count": 4,
      "outputs": [
        {
          "output_type": "execute_result",
          "data": {
            "text/plain": [
              "(1258,)"
            ]
          },
          "metadata": {
            "tags": []
          },
          "execution_count": 4
        }
      ]
    },
    {
      "cell_type": "code",
      "metadata": {
        "colab": {
          "base_uri": "https://localhost:8080/",
          "height": 284
        },
        "id": "928eJvpX5R6X",
        "outputId": "c26ac4ba-4c65-4b4c-9753-9cd5573e554c"
      },
      "source": [
        "import matplotlib.pyplot as plt\n",
        "plt.plot(df1)"
      ],
      "execution_count": 5,
      "outputs": [
        {
          "output_type": "execute_result",
          "data": {
            "text/plain": [
              "[<matplotlib.lines.Line2D at 0x7fb3f0901950>]"
            ]
          },
          "metadata": {
            "tags": []
          },
          "execution_count": 5
        },
        {
          "output_type": "display_data",
          "data": {
            "image/png": "[encoded data removed]",
            "text/plain": [
              "<Figure size 432x288 with 1 Axes>"
            ]
          },
          "metadata": {
            "tags": [],
            "needs_background": "light"
          }
        }
      ]
    },
    {
      "cell_type": "code",
      "metadata": {
        "id": "oOOKaR9z5ljn"
      },
      "source": [
        "# LSDM are sensitive to the scale of the data. so we apply MinMax scaler\n",
        "즉 close 데이터들 중에 가장 작은 값을 0으로, 가장 큰값을 1로 바꿔주는 작업해야하고, 그러기위해 numpy 필요"
      ],
      "execution_count": null,
      "outputs": []
    },
    {
      "cell_type": "code",
      "metadata": {
        "colab": {
          "base_uri": "https://localhost:8080/"
        },
        "id": "fxf6hbxl8Cs3",
        "outputId": "926cacc9-5385-42e8-9d47-8ef83c8137a4"
      },
      "source": [
        "import numpy as np\n",
        "from sklearn.preprocessing import MinMaxScaler\n",
        "scaler = MinMaxScaler(feature_range=(0,1))\n",
        "df1 = scaler.fit_transform(np.array(df1).reshape(-1, 1))\n",
        "df1"
      ],
      "execution_count": 6,
      "outputs": [
        {
          "output_type": "execute_result",
          "data": {
            "text/plain": [
              "array([[0.00444391],\n",
              "       [0.00350199],\n",
              "       [0.00608622],\n",
              "       ...,\n",
              "       [0.08180171],\n",
              "       [0.07421809],\n",
              "       [0.07953146]])"
            ]
          },
          "metadata": {
            "tags": []
          },
          "execution_count": 6
        }
      ]
    },
    {
      "cell_type": "markdown",
      "metadata": {
        "id": "9DcQUl4a9c7N"
      },
      "source": [
        "# 2. Preprocess the Data\n",
        "* timeseries data(sequence of data)는 70퍼는 Train데이터로, 나머지 30퍼는 테스트 데이터로\n",
        "*  이제 데이터 preprocess하자."
      ]
    },
    {
      "cell_type": "code",
      "metadata": {
        "colab": {
          "base_uri": "https://localhost:8080/"
        },
        "id": "vQqKAKUG-R3Q",
        "outputId": "85ecb4ea-5045-46e8-b4e2-c02b1880201b"
      },
      "source": [
        "training_size = int(len(df1)*0.65)\n",
        "test_size = len(df1) - training_size\n",
        "\n",
        "train_data = df1[0: training_size, :]\n",
        "test_data = df1[training_size: len(df1), :1]\n",
        "\n",
        "training_size, test_size\n",
        "len(train_data)"
      ],
      "execution_count": 7,
      "outputs": [
        {
          "output_type": "execute_result",
          "data": {
            "text/plain": [
              "817"
            ]
          },
          "metadata": {
            "tags": []
          },
          "execution_count": 7
        }
      ]
    },
    {
      "cell_type": "code",
      "metadata": {
        "id": "j7XGx6ev_rTx"
      },
      "source": [
        "import numpy as np\n",
        "def create_dataset(dataset, time_step=1):\n",
        "  dataX, dataY = [], []\n",
        "  for i in range(len(dataset)-time_step-1):\n",
        "    a = dataset[i:(i+time_step), 0]\n",
        "    dataX.append(a)\n",
        "    dataY.append(dataset[i+time_step, 0])\n",
        "  return np.array(dataX), np.array(dataY)\n",
        "\n"
      ],
      "execution_count": 8,
      "outputs": []
    },
    {
      "cell_type": "code",
      "metadata": {
        "colab": {
          "base_uri": "https://localhost:8080/"
        },
        "id": "5YUuO7-LBtl3",
        "outputId": "d0786b92-ab25-4f22-bd6c-b9e6cb93862b"
      },
      "source": [
        "time_step = 100\n",
        "X_train, y_train = create_dataset(train_data, time_step)\n",
        "X_test, y_test = create_dataset(test_data, time_step)\n",
        "\n",
        "print(X_train)\n",
        "print(X_train.shape, y_train.shape)"
      ],
      "execution_count": 9,
      "outputs": [
        {
          "output_type": "stream",
          "text": [
            "[[0.00444391 0.00350199 0.00608622 ... 0.04946263 0.05062191 0.05074266]\n",
            " [0.00350199 0.00608622 0.00521676 ... 0.05062191 0.05074266 0.0527714 ]\n",
            " [0.00608622 0.00521676 0.00768023 ... 0.05074266 0.0527714  0.05318198]\n",
            " ...\n",
            " [0.23180775 0.22820915 0.23214588 ... 0.24465644 0.25349595 0.2584229 ]\n",
            " [0.22820915 0.23214588 0.24888299 ... 0.25349595 0.2584229  0.26902548]\n",
            " [0.23214588 0.24888299 0.23912571 ... 0.2584229  0.26902548 0.26313247]]\n",
            "(716, 100) (716,)\n"
          ],
          "name": "stdout"
        }
      ]
    },
    {
      "cell_type": "code",
      "metadata": {
        "colab": {
          "base_uri": "https://localhost:8080/"
        },
        "id": "SWqK3UidDkb6",
        "outputId": "299cb271-23d8-4940-fa16-ade5c7351580"
      },
      "source": [
        "#reshape input to be 3dimensional. [samples, time_steps, features] which is required for LSTM\n",
        "X_train = X_train.reshape(X_train.shape[0], X_train.shape[1], 1)\n",
        "X_test = X_test.reshape(X_test.shape[0], X_test.shape[1], 1)\n",
        "\n",
        "print(X_train.shape, y_train.shape)"
      ],
      "execution_count": 11,
      "outputs": [
        {
          "output_type": "stream",
          "text": [
            "(716, 100, 1) (716,)\n"
          ],
          "name": "stdout"
        }
      ]
    },
    {
      "cell_type": "markdown",
      "metadata": {
        "id": "DTxsGQ0uHJ2J"
      },
      "source": [
        "3. Create LSTM model"
      ]
    },
    {
      "cell_type": "code",
      "metadata": {
        "id": "Fz6NZXKIHMIw"
      },
      "source": [
        "from tensorflow.keras.models import Sequential\n",
        "from tensorflow.keras.layers import Dense\n",
        "from tensorflow.keras.layers import LSTM"
      ],
      "execution_count": 12,
      "outputs": []
    },
    {
      "cell_type": "code",
      "metadata": {
        "id": "k_UNbXQwHaRb"
      },
      "source": [
        "model=Sequential()\n",
        "model.add(LSTM(50, return_sequences=True, input_shape=(100, 1)))\n",
        "model.add(LSTM(50, return_sequences=True))\n",
        "model.add(LSTM(50))\n",
        "model.add(Dense(1))\n",
        "model.compile(loss=\"mean_squared_error\", optimizer='adam')"
      ],
      "execution_count": 13,
      "outputs": []
    },
    {
      "cell_type": "code",
      "metadata": {
        "colab": {
          "base_uri": "https://localhost:8080/"
        },
        "id": "yHNZoWXYISmo",
        "outputId": "1bfb7a80-8581-4058-bbb6-b17834a5117a"
      },
      "source": [
        "model.summary()"
      ],
      "execution_count": 14,
      "outputs": [
        {
          "output_type": "stream",
          "text": [
            "Model: \"sequential\"\n",
            "_________________________________________________________________\n",
            "Layer (type)                 Output Shape              Param #   \n",
            "=================================================================\n",
            "lstm (LSTM)                  (None, 100, 50)           10400     \n",
            "_________________________________________________________________\n",
            "lstm_1 (LSTM)                (None, 100, 50)           20200     \n",
            "_________________________________________________________________\n",
            "lstm_2 (LSTM)                (None, 50)                20200     \n",
            "_________________________________________________________________\n",
            "dense (Dense)                (None, 1)                 51        \n",
            "=================================================================\n",
            "Total params: 50,851\n",
            "Trainable params: 50,851\n",
            "Non-trainable params: 0\n",
            "_________________________________________________________________\n"
          ],
          "name": "stdout"
        }
      ]
    },
    {
      "cell_type": "code",
      "metadata": {
        "colab": {
          "base_uri": "https://localhost:8080/"
        },
        "id": "kSAUFcwqIZlg",
        "outputId": "a83637f2-efbe-4d0c-e652-6e92f2b841f2"
      },
      "source": [
        "model.fit(X_train, y_train, validation_data=(X_test, y_test), epochs=100, batch_size=64, verbose=1)"
      ],
      "execution_count": 15,
      "outputs": [
        {
          "output_type": "stream",
          "text": [
            "Epoch 1/100\n",
            "12/12 [==============================] - 8s 295ms/step - loss: 0.0161 - val_loss: 0.0450\n",
            "Epoch 2/100\n",
            "12/12 [==============================] - 2s 183ms/step - loss: 0.0027 - val_loss: 0.0246\n",
            "Epoch 3/100\n",
            "12/12 [==============================] - 2s 184ms/step - loss: 0.0013 - val_loss: 0.0255\n",
            "Epoch 4/100\n",
            "12/12 [==============================] - 2s 181ms/step - loss: 7.0043e-04 - val_loss: 0.0211\n",
            "Epoch 5/100\n",
            "12/12 [==============================] - 2s 184ms/step - loss: 4.8032e-04 - val_loss: 0.0186\n",
            "Epoch 6/100\n",
            "12/12 [==============================] - 2s 187ms/step - loss: 3.9458e-04 - val_loss: 0.0185\n",
            "Epoch 7/100\n",
            "12/12 [==============================] - 2s 188ms/step - loss: 4.0066e-04 - val_loss: 0.0181\n",
            "Epoch 8/100\n",
            "12/12 [==============================] - 2s 186ms/step - loss: 3.9492e-04 - val_loss: 0.0179\n",
            "Epoch 9/100\n",
            "12/12 [==============================] - 2s 191ms/step - loss: 3.7452e-04 - val_loss: 0.0176\n",
            "Epoch 10/100\n",
            "12/12 [==============================] - 2s 184ms/step - loss: 3.8250e-04 - val_loss: 0.0172\n",
            "Epoch 11/100\n",
            "12/12 [==============================] - 2s 187ms/step - loss: 3.4425e-04 - val_loss: 0.0169\n",
            "Epoch 12/100\n",
            "12/12 [==============================] - 2s 184ms/step - loss: 3.2321e-04 - val_loss: 0.0167\n",
            "Epoch 13/100\n",
            "12/12 [==============================] - 2s 189ms/step - loss: 3.6042e-04 - val_loss: 0.0165\n",
            "Epoch 14/100\n",
            "12/12 [==============================] - 2s 189ms/step - loss: 3.4974e-04 - val_loss: 0.0159\n",
            "Epoch 15/100\n",
            "12/12 [==============================] - 2s 184ms/step - loss: 3.1287e-04 - val_loss: 0.0156\n",
            "Epoch 16/100\n",
            "12/12 [==============================] - 2s 187ms/step - loss: 3.1288e-04 - val_loss: 0.0155\n",
            "Epoch 17/100\n",
            "12/12 [==============================] - 2s 193ms/step - loss: 2.9386e-04 - val_loss: 0.0154\n",
            "Epoch 18/100\n",
            "12/12 [==============================] - 2s 188ms/step - loss: 3.7642e-04 - val_loss: 0.0147\n",
            "Epoch 19/100\n",
            "12/12 [==============================] - 2s 188ms/step - loss: 3.9930e-04 - val_loss: 0.0143\n",
            "Epoch 20/100\n",
            "12/12 [==============================] - 2s 189ms/step - loss: 2.8445e-04 - val_loss: 0.0143\n",
            "Epoch 21/100\n",
            "12/12 [==============================] - 2s 187ms/step - loss: 2.7707e-04 - val_loss: 0.0137\n",
            "Epoch 22/100\n",
            "12/12 [==============================] - 2s 188ms/step - loss: 3.1907e-04 - val_loss: 0.0134\n",
            "Epoch 23/100\n",
            "12/12 [==============================] - 2s 191ms/step - loss: 2.5030e-04 - val_loss: 0.0133\n",
            "Epoch 24/100\n",
            "12/12 [==============================] - 2s 190ms/step - loss: 2.4431e-04 - val_loss: 0.0128\n",
            "Epoch 25/100\n",
            "12/12 [==============================] - 2s 187ms/step - loss: 2.4169e-04 - val_loss: 0.0127\n",
            "Epoch 26/100\n",
            "12/12 [==============================] - 2s 190ms/step - loss: 2.1826e-04 - val_loss: 0.0130\n",
            "Epoch 27/100\n",
            "12/12 [==============================] - 2s 188ms/step - loss: 2.6604e-04 - val_loss: 0.0121\n",
            "Epoch 28/100\n",
            "12/12 [==============================] - 2s 195ms/step - loss: 2.9918e-04 - val_loss: 0.0132\n",
            "Epoch 29/100\n",
            "12/12 [==============================] - 2s 189ms/step - loss: 2.7760e-04 - val_loss: 0.0117\n",
            "Epoch 30/100\n",
            "12/12 [==============================] - 2s 189ms/step - loss: 2.2884e-04 - val_loss: 0.0122\n",
            "Epoch 31/100\n",
            "12/12 [==============================] - 2s 190ms/step - loss: 2.1676e-04 - val_loss: 0.0119\n",
            "Epoch 32/100\n",
            "12/12 [==============================] - 2s 189ms/step - loss: 1.9258e-04 - val_loss: 0.0120\n",
            "Epoch 33/100\n",
            "12/12 [==============================] - 2s 191ms/step - loss: 2.0991e-04 - val_loss: 0.0120\n",
            "Epoch 34/100\n",
            "12/12 [==============================] - 2s 197ms/step - loss: 2.1685e-04 - val_loss: 0.0119\n",
            "Epoch 35/100\n",
            "12/12 [==============================] - 2s 193ms/step - loss: 2.0792e-04 - val_loss: 0.0110\n",
            "Epoch 36/100\n",
            "12/12 [==============================] - 2s 189ms/step - loss: 2.4714e-04 - val_loss: 0.0117\n",
            "Epoch 37/100\n",
            "12/12 [==============================] - 2s 190ms/step - loss: 1.8470e-04 - val_loss: 0.0124\n",
            "Epoch 38/100\n",
            "12/12 [==============================] - 2s 193ms/step - loss: 2.3586e-04 - val_loss: 0.0109\n",
            "Epoch 39/100\n",
            "12/12 [==============================] - 2s 190ms/step - loss: 1.9100e-04 - val_loss: 0.0108\n",
            "Epoch 40/100\n",
            "12/12 [==============================] - 2s 195ms/step - loss: 2.2349e-04 - val_loss: 0.0116\n",
            "Epoch 41/100\n",
            "12/12 [==============================] - 2s 190ms/step - loss: 1.9740e-04 - val_loss: 0.0101\n",
            "Epoch 42/100\n",
            "12/12 [==============================] - 2s 193ms/step - loss: 2.3245e-04 - val_loss: 0.0107\n",
            "Epoch 43/100\n",
            "12/12 [==============================] - 2s 192ms/step - loss: 1.6833e-04 - val_loss: 0.0104\n",
            "Epoch 44/100\n",
            "12/12 [==============================] - 2s 195ms/step - loss: 1.7717e-04 - val_loss: 0.0101\n",
            "Epoch 45/100\n",
            "12/12 [==============================] - 2s 188ms/step - loss: 1.7939e-04 - val_loss: 0.0102\n",
            "Epoch 46/100\n",
            "12/12 [==============================] - 2s 189ms/step - loss: 1.8470e-04 - val_loss: 0.0104\n",
            "Epoch 47/100\n",
            "12/12 [==============================] - 2s 195ms/step - loss: 1.6312e-04 - val_loss: 0.0101\n",
            "Epoch 48/100\n",
            "12/12 [==============================] - 2s 194ms/step - loss: 1.8641e-04 - val_loss: 0.0093\n",
            "Epoch 49/100\n",
            "12/12 [==============================] - 2s 190ms/step - loss: 2.0931e-04 - val_loss: 0.0100\n",
            "Epoch 50/100\n",
            "12/12 [==============================] - 2s 192ms/step - loss: 1.8877e-04 - val_loss: 0.0094\n",
            "Epoch 51/100\n",
            "12/12 [==============================] - 2s 195ms/step - loss: 1.6818e-04 - val_loss: 0.0092\n",
            "Epoch 52/100\n",
            "12/12 [==============================] - 2s 189ms/step - loss: 1.7247e-04 - val_loss: 0.0097\n",
            "Epoch 53/100\n",
            "12/12 [==============================] - 2s 193ms/step - loss: 1.8100e-04 - val_loss: 0.0093\n",
            "Epoch 54/100\n",
            "12/12 [==============================] - 2s 192ms/step - loss: 1.7610e-04 - val_loss: 0.0087\n",
            "Epoch 55/100\n",
            "12/12 [==============================] - 2s 190ms/step - loss: 1.9223e-04 - val_loss: 0.0103\n",
            "Epoch 56/100\n",
            "12/12 [==============================] - 2s 190ms/step - loss: 2.2928e-04 - val_loss: 0.0089\n",
            "Epoch 57/100\n",
            "12/12 [==============================] - 2s 192ms/step - loss: 2.1148e-04 - val_loss: 0.0083\n",
            "Epoch 58/100\n",
            "12/12 [==============================] - 2s 192ms/step - loss: 1.7481e-04 - val_loss: 0.0090\n",
            "Epoch 59/100\n",
            "12/12 [==============================] - 2s 186ms/step - loss: 1.5247e-04 - val_loss: 0.0082\n",
            "Epoch 60/100\n",
            "12/12 [==============================] - 2s 195ms/step - loss: 1.5757e-04 - val_loss: 0.0094\n",
            "Epoch 61/100\n",
            "12/12 [==============================] - 2s 194ms/step - loss: 1.6952e-04 - val_loss: 0.0082\n",
            "Epoch 62/100\n",
            "12/12 [==============================] - 2s 195ms/step - loss: 1.5886e-04 - val_loss: 0.0094\n",
            "Epoch 63/100\n",
            "12/12 [==============================] - 2s 197ms/step - loss: 1.6904e-04 - val_loss: 0.0082\n",
            "Epoch 64/100\n",
            "12/12 [==============================] - 2s 187ms/step - loss: 1.5990e-04 - val_loss: 0.0089\n",
            "Epoch 65/100\n",
            "12/12 [==============================] - 2s 199ms/step - loss: 1.4727e-04 - val_loss: 0.0084\n",
            "Epoch 66/100\n",
            "12/12 [==============================] - 2s 190ms/step - loss: 1.4307e-04 - val_loss: 0.0084\n",
            "Epoch 67/100\n",
            "12/12 [==============================] - 2s 188ms/step - loss: 1.4985e-04 - val_loss: 0.0082\n",
            "Epoch 68/100\n",
            "12/12 [==============================] - 2s 188ms/step - loss: 1.4624e-04 - val_loss: 0.0082\n",
            "Epoch 69/100\n",
            "12/12 [==============================] - 2s 191ms/step - loss: 1.5940e-04 - val_loss: 0.0081\n",
            "Epoch 70/100\n",
            "12/12 [==============================] - 2s 196ms/step - loss: 1.6088e-04 - val_loss: 0.0073\n",
            "Epoch 71/100\n",
            "12/12 [==============================] - 2s 189ms/step - loss: 1.6464e-04 - val_loss: 0.0085\n",
            "Epoch 72/100\n",
            "12/12 [==============================] - 2s 190ms/step - loss: 1.6293e-04 - val_loss: 0.0080\n",
            "Epoch 73/100\n",
            "12/12 [==============================] - 2s 191ms/step - loss: 1.3696e-04 - val_loss: 0.0076\n",
            "Epoch 74/100\n",
            "12/12 [==============================] - 2s 195ms/step - loss: 1.2890e-04 - val_loss: 0.0073\n",
            "Epoch 75/100\n",
            "12/12 [==============================] - 2s 191ms/step - loss: 1.4930e-04 - val_loss: 0.0091\n",
            "Epoch 76/100\n",
            "12/12 [==============================] - 2s 193ms/step - loss: 2.1502e-04 - val_loss: 0.0069\n",
            "Epoch 77/100\n",
            "12/12 [==============================] - 2s 208ms/step - loss: 1.6863e-04 - val_loss: 0.0081\n",
            "Epoch 78/100\n",
            "12/12 [==============================] - 2s 197ms/step - loss: 1.5291e-04 - val_loss: 0.0071\n",
            "Epoch 79/100\n",
            "12/12 [==============================] - 2s 192ms/step - loss: 1.3175e-04 - val_loss: 0.0078\n",
            "Epoch 80/100\n",
            "12/12 [==============================] - 2s 194ms/step - loss: 1.3539e-04 - val_loss: 0.0068\n",
            "Epoch 81/100\n",
            "12/12 [==============================] - 2s 198ms/step - loss: 1.3673e-04 - val_loss: 0.0080\n",
            "Epoch 82/100\n",
            "12/12 [==============================] - 2s 191ms/step - loss: 1.2692e-04 - val_loss: 0.0069\n",
            "Epoch 83/100\n",
            "12/12 [==============================] - 2s 201ms/step - loss: 1.1401e-04 - val_loss: 0.0073\n",
            "Epoch 84/100\n",
            "12/12 [==============================] - 2s 192ms/step - loss: 1.2664e-04 - val_loss: 0.0067\n",
            "Epoch 85/100\n",
            "12/12 [==============================] - 2s 191ms/step - loss: 1.1777e-04 - val_loss: 0.0081\n",
            "Epoch 86/100\n",
            "12/12 [==============================] - 2s 198ms/step - loss: 1.4511e-04 - val_loss: 0.0062\n",
            "Epoch 87/100\n",
            "12/12 [==============================] - 2s 195ms/step - loss: 1.7552e-04 - val_loss: 0.0067\n",
            "Epoch 88/100\n",
            "12/12 [==============================] - 2s 196ms/step - loss: 1.2619e-04 - val_loss: 0.0067\n",
            "Epoch 89/100\n",
            "12/12 [==============================] - 2s 196ms/step - loss: 1.1203e-04 - val_loss: 0.0062\n",
            "Epoch 90/100\n",
            "12/12 [==============================] - 2s 191ms/step - loss: 1.0159e-04 - val_loss: 0.0064\n",
            "Epoch 91/100\n",
            "12/12 [==============================] - 2s 194ms/step - loss: 1.1312e-04 - val_loss: 0.0060\n",
            "Epoch 92/100\n",
            "12/12 [==============================] - 2s 193ms/step - loss: 1.0467e-04 - val_loss: 0.0066\n",
            "Epoch 93/100\n",
            "12/12 [==============================] - 2s 200ms/step - loss: 1.1241e-04 - val_loss: 0.0057\n",
            "Epoch 94/100\n",
            "12/12 [==============================] - 2s 200ms/step - loss: 1.1766e-04 - val_loss: 0.0063\n",
            "Epoch 95/100\n",
            "12/12 [==============================] - 2s 197ms/step - loss: 1.2227e-04 - val_loss: 0.0054\n",
            "Epoch 96/100\n",
            "12/12 [==============================] - 2s 194ms/step - loss: 1.0993e-04 - val_loss: 0.0049\n",
            "Epoch 97/100\n",
            "12/12 [==============================] - 2s 200ms/step - loss: 1.4761e-04 - val_loss: 0.0059\n",
            "Epoch 98/100\n",
            "12/12 [==============================] - 2s 193ms/step - loss: 1.2069e-04 - val_loss: 0.0064\n",
            "Epoch 99/100\n",
            "12/12 [==============================] - 2s 189ms/step - loss: 1.2328e-04 - val_loss: 0.0051\n",
            "Epoch 100/100\n",
            "12/12 [==============================] - 2s 191ms/step - loss: 9.8946e-05 - val_loss: 0.0056\n"
          ],
          "name": "stdout"
        },
        {
          "output_type": "execute_result",
          "data": {
            "text/plain": [
              "<tensorflow.python.keras.callbacks.History at 0x7fb3a9a281d0>"
            ]
          },
          "metadata": {
            "tags": []
          },
          "execution_count": 15
        }
      ]
    },
    {
      "cell_type": "markdown",
      "metadata": {
        "id": "mn72s7wbRHzP"
      },
      "source": [
        "#. Predict the test data and plot the output"
      ]
    },
    {
      "cell_type": "code",
      "metadata": {
        "id": "ECvl0XgnPxV0"
      },
      "source": [
        "#Let's do the prediction check performance matrix\n",
        "train_predict = model.predict(X_train)\n",
        "test_predict = model.predict(X_test)"
      ],
      "execution_count": 16,
      "outputs": []
    },
    {
      "cell_type": "code",
      "metadata": {
        "id": "O3BuseM_R4Kq"
      },
      "source": [
        "# Transform back to original form(3차원을 다시 2차원으로)\n",
        "train_predict=scaler.inverse_transform(train_predict)\n",
        "test_predict=scaler.inverse_transform(test_predict)"
      ],
      "execution_count": 17,
      "outputs": []
    },
    {
      "cell_type": "code",
      "metadata": {
        "colab": {
          "base_uri": "https://localhost:8080/"
        },
        "id": "LO1TN7J5gXkG",
        "outputId": "fef6f71e-51cb-46ed-8e34-0f325e24c3c3"
      },
      "source": [
        "# Calculate RMSE performance metrics\n",
        "import math\n",
        "from sklearn.metrics import mean_squared_error\n",
        "math.sqrt(mean_squared_error(y_train, train_predict))"
      ],
      "execution_count": 18,
      "outputs": [
        {
          "output_type": "execute_result",
          "data": {
            "text/plain": [
              "170.3183604838142"
            ]
          },
          "metadata": {
            "tags": []
          },
          "execution_count": 18
        }
      ]
    },
    {
      "cell_type": "code",
      "metadata": {
        "colab": {
          "base_uri": "https://localhost:8080/"
        },
        "id": "9l9FE-asg6tC",
        "outputId": "66cd3607-3931-4802-b164-2c38c19df012"
      },
      "source": [
        "#Test Data RMSE\n",
        "math.sqrt(mean_squared_error(y_test, test_predict))"
      ],
      "execution_count": 19,
      "outputs": [
        {
          "output_type": "execute_result",
          "data": {
            "text/plain": [
              "238.6423533571391"
            ]
          },
          "metadata": {
            "tags": []
          },
          "execution_count": 19
        }
      ]
    },
    {
      "cell_type": "markdown",
      "metadata": {
        "id": "sLBQ1NcMhlev"
      },
      "source": [
        "# Plotting"
      ]
    },
    {
      "cell_type": "code",
      "metadata": {
        "colab": {
          "base_uri": "https://localhost:8080/",
          "height": 265
        },
        "id": "FPjOK8IIhHlG",
        "outputId": "720700ca-1159-495d-9ce2-fa67deec9551"
      },
      "source": [
        "# shift train predictions for plotting\n",
        "look_back = 100\n",
        "trainPredictPlot = np.empty_like(df1)\n",
        "trainPredictPlot[:, :] = np.nan\n",
        "trainPredictPlot[look_back:len(train_predict)+look_back, :] = train_predict\n",
        "\n",
        "# shift test predictions for plotting\n",
        "testPredictPlot = np.empty_like(df1)\n",
        "testPredictPlot[:, :] = np.nan\n",
        "testPredictPlot[len(train_predict)+(look_back*2)+1:len(df1)-1,:] = test_predict\n",
        "\n",
        "# plot baseline and predictions\n",
        "plt.plot(scaler.inverse_transform(df1))\n",
        "plt.plot(trainPredictPlot)\n",
        "plt.plot(testPredictPlot)\n",
        "plt.show()"
      ],
      "execution_count": 20,
      "outputs": [
        {
          "output_type": "display_data",
          "data": {
            "image/png": "[encoded data removed]",
            "text/plain": [
              "<Figure size 432x288 with 1 Axes>"
            ]
          },
          "metadata": {
            "tags": [],
            "needs_background": "light"
          }
        }
      ]
    },
    {
      "cell_type": "markdown",
      "metadata": {
        "id": "yYVJJUiOjN5g"
      },
      "source": [
        "# 5. Predict the future 30 days and plot the output"
      ]
    },
    {
      "cell_type": "code",
      "metadata": {
        "colab": {
          "base_uri": "https://localhost:8080/"
        },
        "id": "LXapwChwjNOw",
        "outputId": "5e666e45-18dd-4b63-c30c-e4866c71f589"
      },
      "source": [
        "len(test_data)"
      ],
      "execution_count": 21,
      "outputs": [
        {
          "output_type": "execute_result",
          "data": {
            "text/plain": [
              "441"
            ]
          },
          "metadata": {
            "tags": []
          },
          "execution_count": 21
        }
      ]
    },
    {
      "cell_type": "code",
      "metadata": {
        "colab": {
          "base_uri": "https://localhost:8080/"
        },
        "id": "M2St41MQjkfF",
        "outputId": "c92604e2-1ec9-4a3a-b19c-22213161ec4b"
      },
      "source": [
        "x_input = test_data[340:].reshape(1, -1)\n",
        "x_input.shape"
      ],
      "execution_count": 22,
      "outputs": [
        {
          "output_type": "execute_result",
          "data": {
            "text/plain": [
              "(1, 101)"
            ]
          },
          "metadata": {
            "tags": []
          },
          "execution_count": 22
        }
      ]
    },
    {
      "cell_type": "code",
      "metadata": {
        "colab": {
          "base_uri": "https://localhost:8080/"
        },
        "id": "6y0SYch1j2cz",
        "outputId": "6426ad70-a5c6-4e51-889d-f94be747563a"
      },
      "source": [
        "temp_input=list(x_input)\n",
        "temp_input=temp_input[0].tolist()\n",
        "temp_input"
      ],
      "execution_count": 23,
      "outputs": [
        {
          "output_type": "execute_result",
          "data": {
            "text/plain": [
              "[0.08854003139717423,\n",
              " 0.08360101437024511,\n",
              " 0.08740490278951815,\n",
              " 0.09622026325323027,\n",
              " 0.09399830938292478,\n",
              " 0.09643762830576016,\n",
              " 0.1078372177273276,\n",
              " 0.10344161333172322,\n",
              " 0.10066417099384131,\n",
              " 0.09817654872599926,\n",
              " 0.09025480014491002,\n",
              " 0.09411906774544135,\n",
              " 0.08346818017147686,\n",
              " 0.09390170269291145,\n",
              " 0.09663084168578676,\n",
              " 0.08921627822726722,\n",
              " 0.08878154812220748,\n",
              " 0.09382924767540149,\n",
              " 0.08904721651974398,\n",
              " 0.08477237048665617,\n",
              " 0.08643883588938531,\n",
              " 0.0965825383407801,\n",
              " 0.10827194783238739,\n",
              " 0.11358531578311795,\n",
              " 0.12288370969689646,\n",
              " 0.12346334983697618,\n",
              " 0.1208066658616109,\n",
              " 0.10880328462746044,\n",
              " 0.09641347663325686,\n",
              " 0.10167854123898076,\n",
              " 0.10373143340176308,\n",
              " 0.10119550778891437,\n",
              " 0.10952783480256004,\n",
              " 0.10800627943485083,\n",
              " 0.10836855452240066,\n",
              " 0.10619490399710177,\n",
              " 0.10469750030189587,\n",
              " 0.10406955681680954,\n",
              " 0.10464919695688926,\n",
              " 0.0993841323511653,\n",
              " 0.09370848931288492,\n",
              " 0.09097935032000967,\n",
              " 0.0913657770800628,\n",
              " 0.08201907982127762,\n",
              " 0.0816809564062311,\n",
              " 0.08044922110856176,\n",
              " 0.06991909189711384,\n",
              " 0.07057118705470353,\n",
              " 0.0863422291993721,\n",
              " 0.0798937326409854,\n",
              " 0.07250332085496922,\n",
              " 0.06784204806182828,\n",
              " 0.07095761381475665,\n",
              " 0.0587368675280763,\n",
              " 0.07014853278589542,\n",
              " 0.06747977297427846,\n",
              " 0.07226180412993596,\n",
              " 0.07001569858712717,\n",
              " 0.0771645936481101,\n",
              " 0.08098055790363481,\n",
              " 0.07902427243086582,\n",
              " 0.06880811496196113,\n",
              " 0.06750392464678176,\n",
              " 0.07571549329791086,\n",
              " 0.0736626011351286,\n",
              " 0.06774544137181501,\n",
              " 0.06895302499698105,\n",
              " 0.0704504286921869,\n",
              " 0.07088515879724669,\n",
              " 0.06728655959425192,\n",
              " 0.07272068590749911,\n",
              " 0.07477357807028137,\n",
              " 0.08177756309624443,\n",
              " 0.08252626494384732,\n",
              " 0.0866078975969086,\n",
              " 0.09254920903272554,\n",
              " 0.09891317473735059,\n",
              " 0.09467455621301776,\n",
              " 0.10237893974157711,\n",
              " 0.0965825383407801,\n",
              " 0.10254800144910034,\n",
              " 0.10172684458398742,\n",
              " 0.10336915831421326,\n",
              " 0.09919091897113877,\n",
              " 0.10013283419876826,\n",
              " 0.0963651732882502,\n",
              " 0.10211327134404055,\n",
              " 0.1030793382441734,\n",
              " 0.10228233305156378,\n",
              " 0.10032604757879485,\n",
              " 0.1000845308537616,\n",
              " 0.09520589300809082,\n",
              " 0.09781427363844944,\n",
              " 0.08648713923439197,\n",
              " 0.08709093104697499,\n",
              " 0.09105180533751964,\n",
              " 0.09218693394517571,\n",
              " 0.08407197198405988,\n",
              " 0.08180171476874773,\n",
              " 0.07421808960270496,\n",
              " 0.07953145755343557]"
            ]
          },
          "metadata": {
            "tags": []
          },
          "execution_count": 23
        }
      ]
    },
    {
      "cell_type": "code",
      "metadata": {
        "id": "4TvOVnYmkLSx",
        "colab": {
          "base_uri": "https://localhost:8080/"
        },
        "outputId": "7c8f0d8a-0157-4a8b-eb3a-4cfce4bf3cf9"
      },
      "source": [
        "#demonstrate prediction for next 10 days\n",
        "from numpy import array\n",
        "\n",
        "lst_output=[]\n",
        "n_steps=100\n",
        "i=0\n",
        "while(i<30):\n",
        "    \n",
        "    if(len(temp_input)>100):\n",
        "        #print(temp_input)\n",
        "        x_input=np.array(temp_input[1:])\n",
        "        print(\"{} day input {}\".format(i,x_input))\n",
        "        x_input=x_input.reshape(1,-1)\n",
        "        x_input = x_input.reshape((1, n_steps, 1))\n",
        "        #print(x_input)\n",
        "        yhat = model.predict(x_input, verbose=0)\n",
        "        print(\"{} day output {}\".format(i,yhat))\n",
        "        temp_input.extend(yhat[0].tolist())\n",
        "        temp_input=temp_input[1:]\n",
        "        #print(temp_input)\n",
        "        lst_output.extend(yhat.tolist())\n",
        "        i=i+1\n",
        "    else:\n",
        "        x_input = x_input.reshape((1, n_steps,1))\n",
        "        yhat = model.predict(x_input, verbose=0)\n",
        "        print(yhat[0])\n",
        "        temp_input.extend(yhat[0].tolist())\n",
        "        print(len(temp_input))\n",
        "        lst_output.extend(yhat.tolist())\n",
        "        i=i+1\n",
        "    \n",
        "\n",
        "print(lst_output)"
      ],
      "execution_count": 24,
      "outputs": [
        {
          "output_type": "stream",
          "text": [
            "0 day input [0.08360101 0.0874049  0.09622026 0.09399831 0.09643763 0.10783722\n",
            " 0.10344161 0.10066417 0.09817655 0.0902548  0.09411907 0.08346818\n",
            " 0.0939017  0.09663084 0.08921628 0.08878155 0.09382925 0.08904722\n",
            " 0.08477237 0.08643884 0.09658254 0.10827195 0.11358532 0.12288371\n",
            " 0.12346335 0.12080667 0.10880328 0.09641348 0.10167854 0.10373143\n",
            " 0.10119551 0.10952783 0.10800628 0.10836855 0.1061949  0.1046975\n",
            " 0.10406956 0.1046492  0.09938413 0.09370849 0.09097935 0.09136578\n",
            " 0.08201908 0.08168096 0.08044922 0.06991909 0.07057119 0.08634223\n",
            " 0.07989373 0.07250332 0.06784205 0.07095761 0.05873687 0.07014853\n",
            " 0.06747977 0.0722618  0.0700157  0.07716459 0.08098056 0.07902427\n",
            " 0.06880811 0.06750392 0.07571549 0.0736626  0.06774544 0.06895302\n",
            " 0.07045043 0.07088516 0.06728656 0.07272069 0.07477358 0.08177756\n",
            " 0.08252626 0.0866079  0.09254921 0.09891317 0.09467456 0.10237894\n",
            " 0.09658254 0.102548   0.10172684 0.10336916 0.09919092 0.10013283\n",
            " 0.09636517 0.10211327 0.10307934 0.10228233 0.10032605 0.10008453\n",
            " 0.09520589 0.09781427 0.08648714 0.08709093 0.09105181 0.09218693\n",
            " 0.08407197 0.08180171 0.07421809 0.07953146]\n",
            "0 day output [[0.0858637]]\n",
            "1 day input [0.0874049  0.09622026 0.09399831 0.09643763 0.10783722 0.10344161\n",
            " 0.10066417 0.09817655 0.0902548  0.09411907 0.08346818 0.0939017\n",
            " 0.09663084 0.08921628 0.08878155 0.09382925 0.08904722 0.08477237\n",
            " 0.08643884 0.09658254 0.10827195 0.11358532 0.12288371 0.12346335\n",
            " 0.12080667 0.10880328 0.09641348 0.10167854 0.10373143 0.10119551\n",
            " 0.10952783 0.10800628 0.10836855 0.1061949  0.1046975  0.10406956\n",
            " 0.1046492  0.09938413 0.09370849 0.09097935 0.09136578 0.08201908\n",
            " 0.08168096 0.08044922 0.06991909 0.07057119 0.08634223 0.07989373\n",
            " 0.07250332 0.06784205 0.07095761 0.05873687 0.07014853 0.06747977\n",
            " 0.0722618  0.0700157  0.07716459 0.08098056 0.07902427 0.06880811\n",
            " 0.06750392 0.07571549 0.0736626  0.06774544 0.06895302 0.07045043\n",
            " 0.07088516 0.06728656 0.07272069 0.07477358 0.08177756 0.08252626\n",
            " 0.0866079  0.09254921 0.09891317 0.09467456 0.10237894 0.09658254\n",
            " 0.102548   0.10172684 0.10336916 0.09919092 0.10013283 0.09636517\n",
            " 0.10211327 0.10307934 0.10228233 0.10032605 0.10008453 0.09520589\n",
            " 0.09781427 0.08648714 0.08709093 0.09105181 0.09218693 0.08407197\n",
            " 0.08180171 0.07421809 0.07953146 0.0858637 ]\n",
            "1 day output [[0.08455805]]\n",
            "2 day input [0.09622026 0.09399831 0.09643763 0.10783722 0.10344161 0.10066417\n",
            " 0.09817655 0.0902548  0.09411907 0.08346818 0.0939017  0.09663084\n",
            " 0.08921628 0.08878155 0.09382925 0.08904722 0.08477237 0.08643884\n",
            " 0.09658254 0.10827195 0.11358532 0.12288371 0.12346335 0.12080667\n",
            " 0.10880328 0.09641348 0.10167854 0.10373143 0.10119551 0.10952783\n",
            " 0.10800628 0.10836855 0.1061949  0.1046975  0.10406956 0.1046492\n",
            " 0.09938413 0.09370849 0.09097935 0.09136578 0.08201908 0.08168096\n",
            " 0.08044922 0.06991909 0.07057119 0.08634223 0.07989373 0.07250332\n",
            " 0.06784205 0.07095761 0.05873687 0.07014853 0.06747977 0.0722618\n",
            " 0.0700157  0.07716459 0.08098056 0.07902427 0.06880811 0.06750392\n",
            " 0.07571549 0.0736626  0.06774544 0.06895302 0.07045043 0.07088516\n",
            " 0.06728656 0.07272069 0.07477358 0.08177756 0.08252626 0.0866079\n",
            " 0.09254921 0.09891317 0.09467456 0.10237894 0.09658254 0.102548\n",
            " 0.10172684 0.10336916 0.09919092 0.10013283 0.09636517 0.10211327\n",
            " 0.10307934 0.10228233 0.10032605 0.10008453 0.09520589 0.09781427\n",
            " 0.08648714 0.08709093 0.09105181 0.09218693 0.08407197 0.08180171\n",
            " 0.07421809 0.07953146 0.0858637  0.08455805]\n",
            "2 day output [[0.08419646]]\n",
            "3 day input [0.09399831 0.09643763 0.10783722 0.10344161 0.10066417 0.09817655\n",
            " 0.0902548  0.09411907 0.08346818 0.0939017  0.09663084 0.08921628\n",
            " 0.08878155 0.09382925 0.08904722 0.08477237 0.08643884 0.09658254\n",
            " 0.10827195 0.11358532 0.12288371 0.12346335 0.12080667 0.10880328\n",
            " 0.09641348 0.10167854 0.10373143 0.10119551 0.10952783 0.10800628\n",
            " 0.10836855 0.1061949  0.1046975  0.10406956 0.1046492  0.09938413\n",
            " 0.09370849 0.09097935 0.09136578 0.08201908 0.08168096 0.08044922\n",
            " 0.06991909 0.07057119 0.08634223 0.07989373 0.07250332 0.06784205\n",
            " 0.07095761 0.05873687 0.07014853 0.06747977 0.0722618  0.0700157\n",
            " 0.07716459 0.08098056 0.07902427 0.06880811 0.06750392 0.07571549\n",
            " 0.0736626  0.06774544 0.06895302 0.07045043 0.07088516 0.06728656\n",
            " 0.07272069 0.07477358 0.08177756 0.08252626 0.0866079  0.09254921\n",
            " 0.09891317 0.09467456 0.10237894 0.09658254 0.102548   0.10172684\n",
            " 0.10336916 0.09919092 0.10013283 0.09636517 0.10211327 0.10307934\n",
            " 0.10228233 0.10032605 0.10008453 0.09520589 0.09781427 0.08648714\n",
            " 0.08709093 0.09105181 0.09218693 0.08407197 0.08180171 0.07421809\n",
            " 0.07953146 0.0858637  0.08455805 0.08419646]\n",
            "3 day output [[0.08446757]]\n",
            "4 day input [0.09643763 0.10783722 0.10344161 0.10066417 0.09817655 0.0902548\n",
            " 0.09411907 0.08346818 0.0939017  0.09663084 0.08921628 0.08878155\n",
            " 0.09382925 0.08904722 0.08477237 0.08643884 0.09658254 0.10827195\n",
            " 0.11358532 0.12288371 0.12346335 0.12080667 0.10880328 0.09641348\n",
            " 0.10167854 0.10373143 0.10119551 0.10952783 0.10800628 0.10836855\n",
            " 0.1061949  0.1046975  0.10406956 0.1046492  0.09938413 0.09370849\n",
            " 0.09097935 0.09136578 0.08201908 0.08168096 0.08044922 0.06991909\n",
            " 0.07057119 0.08634223 0.07989373 0.07250332 0.06784205 0.07095761\n",
            " 0.05873687 0.07014853 0.06747977 0.0722618  0.0700157  0.07716459\n",
            " 0.08098056 0.07902427 0.06880811 0.06750392 0.07571549 0.0736626\n",
            " 0.06774544 0.06895302 0.07045043 0.07088516 0.06728656 0.07272069\n",
            " 0.07477358 0.08177756 0.08252626 0.0866079  0.09254921 0.09891317\n",
            " 0.09467456 0.10237894 0.09658254 0.102548   0.10172684 0.10336916\n",
            " 0.09919092 0.10013283 0.09636517 0.10211327 0.10307934 0.10228233\n",
            " 0.10032605 0.10008453 0.09520589 0.09781427 0.08648714 0.08709093\n",
            " 0.09105181 0.09218693 0.08407197 0.08180171 0.07421809 0.07953146\n",
            " 0.0858637  0.08455805 0.08419646 0.08446757]\n",
            "4 day output [[0.08507646]]\n",
            "5 day input [0.10783722 0.10344161 0.10066417 0.09817655 0.0902548  0.09411907\n",
            " 0.08346818 0.0939017  0.09663084 0.08921628 0.08878155 0.09382925\n",
            " 0.08904722 0.08477237 0.08643884 0.09658254 0.10827195 0.11358532\n",
            " 0.12288371 0.12346335 0.12080667 0.10880328 0.09641348 0.10167854\n",
            " 0.10373143 0.10119551 0.10952783 0.10800628 0.10836855 0.1061949\n",
            " 0.1046975  0.10406956 0.1046492  0.09938413 0.09370849 0.09097935\n",
            " 0.09136578 0.08201908 0.08168096 0.08044922 0.06991909 0.07057119\n",
            " 0.08634223 0.07989373 0.07250332 0.06784205 0.07095761 0.05873687\n",
            " 0.07014853 0.06747977 0.0722618  0.0700157  0.07716459 0.08098056\n",
            " 0.07902427 0.06880811 0.06750392 0.07571549 0.0736626  0.06774544\n",
            " 0.06895302 0.07045043 0.07088516 0.06728656 0.07272069 0.07477358\n",
            " 0.08177756 0.08252626 0.0866079  0.09254921 0.09891317 0.09467456\n",
            " 0.10237894 0.09658254 0.102548   0.10172684 0.10336916 0.09919092\n",
            " 0.10013283 0.09636517 0.10211327 0.10307934 0.10228233 0.10032605\n",
            " 0.10008453 0.09520589 0.09781427 0.08648714 0.08709093 0.09105181\n",
            " 0.09218693 0.08407197 0.08180171 0.07421809 0.07953146 0.0858637\n",
            " 0.08455805 0.08419646 0.08446757 0.08507646]\n",
            "5 day output [[0.08582193]]\n",
            "6 day input [0.10344161 0.10066417 0.09817655 0.0902548  0.09411907 0.08346818\n",
            " 0.0939017  0.09663084 0.08921628 0.08878155 0.09382925 0.08904722\n",
            " 0.08477237 0.08643884 0.09658254 0.10827195 0.11358532 0.12288371\n",
            " 0.12346335 0.12080667 0.10880328 0.09641348 0.10167854 0.10373143\n",
            " 0.10119551 0.10952783 0.10800628 0.10836855 0.1061949  0.1046975\n",
            " 0.10406956 0.1046492  0.09938413 0.09370849 0.09097935 0.09136578\n",
            " 0.08201908 0.08168096 0.08044922 0.06991909 0.07057119 0.08634223\n",
            " 0.07989373 0.07250332 0.06784205 0.07095761 0.05873687 0.07014853\n",
            " 0.06747977 0.0722618  0.0700157  0.07716459 0.08098056 0.07902427\n",
            " 0.06880811 0.06750392 0.07571549 0.0736626  0.06774544 0.06895302\n",
            " 0.07045043 0.07088516 0.06728656 0.07272069 0.07477358 0.08177756\n",
            " 0.08252626 0.0866079  0.09254921 0.09891317 0.09467456 0.10237894\n",
            " 0.09658254 0.102548   0.10172684 0.10336916 0.09919092 0.10013283\n",
            " 0.09636517 0.10211327 0.10307934 0.10228233 0.10032605 0.10008453\n",
            " 0.09520589 0.09781427 0.08648714 0.08709093 0.09105181 0.09218693\n",
            " 0.08407197 0.08180171 0.07421809 0.07953146 0.0858637  0.08455805\n",
            " 0.08419646 0.08446757 0.08507646 0.08582193]\n",
            "6 day output [[0.08659039]]\n",
            "7 day input [0.10066417 0.09817655 0.0902548  0.09411907 0.08346818 0.0939017\n",
            " 0.09663084 0.08921628 0.08878155 0.09382925 0.08904722 0.08477237\n",
            " 0.08643884 0.09658254 0.10827195 0.11358532 0.12288371 0.12346335\n",
            " 0.12080667 0.10880328 0.09641348 0.10167854 0.10373143 0.10119551\n",
            " 0.10952783 0.10800628 0.10836855 0.1061949  0.1046975  0.10406956\n",
            " 0.1046492  0.09938413 0.09370849 0.09097935 0.09136578 0.08201908\n",
            " 0.08168096 0.08044922 0.06991909 0.07057119 0.08634223 0.07989373\n",
            " 0.07250332 0.06784205 0.07095761 0.05873687 0.07014853 0.06747977\n",
            " 0.0722618  0.0700157  0.07716459 0.08098056 0.07902427 0.06880811\n",
            " 0.06750392 0.07571549 0.0736626  0.06774544 0.06895302 0.07045043\n",
            " 0.07088516 0.06728656 0.07272069 0.07477358 0.08177756 0.08252626\n",
            " 0.0866079  0.09254921 0.09891317 0.09467456 0.10237894 0.09658254\n",
            " 0.102548   0.10172684 0.10336916 0.09919092 0.10013283 0.09636517\n",
            " 0.10211327 0.10307934 0.10228233 0.10032605 0.10008453 0.09520589\n",
            " 0.09781427 0.08648714 0.08709093 0.09105181 0.09218693 0.08407197\n",
            " 0.08180171 0.07421809 0.07953146 0.0858637  0.08455805 0.08419646\n",
            " 0.08446757 0.08507646 0.08582193 0.08659039]\n",
            "7 day output [[0.08732706]]\n",
            "8 day input [0.09817655 0.0902548  0.09411907 0.08346818 0.0939017  0.09663084\n",
            " 0.08921628 0.08878155 0.09382925 0.08904722 0.08477237 0.08643884\n",
            " 0.09658254 0.10827195 0.11358532 0.12288371 0.12346335 0.12080667\n",
            " 0.10880328 0.09641348 0.10167854 0.10373143 0.10119551 0.10952783\n",
            " 0.10800628 0.10836855 0.1061949  0.1046975  0.10406956 0.1046492\n",
            " 0.09938413 0.09370849 0.09097935 0.09136578 0.08201908 0.08168096\n",
            " 0.08044922 0.06991909 0.07057119 0.08634223 0.07989373 0.07250332\n",
            " 0.06784205 0.07095761 0.05873687 0.07014853 0.06747977 0.0722618\n",
            " 0.0700157  0.07716459 0.08098056 0.07902427 0.06880811 0.06750392\n",
            " 0.07571549 0.0736626  0.06774544 0.06895302 0.07045043 0.07088516\n",
            " 0.06728656 0.07272069 0.07477358 0.08177756 0.08252626 0.0866079\n",
            " 0.09254921 0.09891317 0.09467456 0.10237894 0.09658254 0.102548\n",
            " 0.10172684 0.10336916 0.09919092 0.10013283 0.09636517 0.10211327\n",
            " 0.10307934 0.10228233 0.10032605 0.10008453 0.09520589 0.09781427\n",
            " 0.08648714 0.08709093 0.09105181 0.09218693 0.08407197 0.08180171\n",
            " 0.07421809 0.07953146 0.0858637  0.08455805 0.08419646 0.08446757\n",
            " 0.08507646 0.08582193 0.08659039 0.08732706]\n",
            "8 day output [[0.08801025]]\n",
            "9 day input [0.0902548  0.09411907 0.08346818 0.0939017  0.09663084 0.08921628\n",
            " 0.08878155 0.09382925 0.08904722 0.08477237 0.08643884 0.09658254\n",
            " 0.10827195 0.11358532 0.12288371 0.12346335 0.12080667 0.10880328\n",
            " 0.09641348 0.10167854 0.10373143 0.10119551 0.10952783 0.10800628\n",
            " 0.10836855 0.1061949  0.1046975  0.10406956 0.1046492  0.09938413\n",
            " 0.09370849 0.09097935 0.09136578 0.08201908 0.08168096 0.08044922\n",
            " 0.06991909 0.07057119 0.08634223 0.07989373 0.07250332 0.06784205\n",
            " 0.07095761 0.05873687 0.07014853 0.06747977 0.0722618  0.0700157\n",
            " 0.07716459 0.08098056 0.07902427 0.06880811 0.06750392 0.07571549\n",
            " 0.0736626  0.06774544 0.06895302 0.07045043 0.07088516 0.06728656\n",
            " 0.07272069 0.07477358 0.08177756 0.08252626 0.0866079  0.09254921\n",
            " 0.09891317 0.09467456 0.10237894 0.09658254 0.102548   0.10172684\n",
            " 0.10336916 0.09919092 0.10013283 0.09636517 0.10211327 0.10307934\n",
            " 0.10228233 0.10032605 0.10008453 0.09520589 0.09781427 0.08648714\n",
            " 0.08709093 0.09105181 0.09218693 0.08407197 0.08180171 0.07421809\n",
            " 0.07953146 0.0858637  0.08455805 0.08419646 0.08446757 0.08507646\n",
            " 0.08582193 0.08659039 0.08732706 0.08801025]\n",
            "9 day output [[0.08863431]]\n",
            "10 day input [0.09411907 0.08346818 0.0939017  0.09663084 0.08921628 0.08878155\n",
            " 0.09382925 0.08904722 0.08477237 0.08643884 0.09658254 0.10827195\n",
            " 0.11358532 0.12288371 0.12346335 0.12080667 0.10880328 0.09641348\n",
            " 0.10167854 0.10373143 0.10119551 0.10952783 0.10800628 0.10836855\n",
            " 0.1061949  0.1046975  0.10406956 0.1046492  0.09938413 0.09370849\n",
            " 0.09097935 0.09136578 0.08201908 0.08168096 0.08044922 0.06991909\n",
            " 0.07057119 0.08634223 0.07989373 0.07250332 0.06784205 0.07095761\n",
            " 0.05873687 0.07014853 0.06747977 0.0722618  0.0700157  0.07716459\n",
            " 0.08098056 0.07902427 0.06880811 0.06750392 0.07571549 0.0736626\n",
            " 0.06774544 0.06895302 0.07045043 0.07088516 0.06728656 0.07272069\n",
            " 0.07477358 0.08177756 0.08252626 0.0866079  0.09254921 0.09891317\n",
            " 0.09467456 0.10237894 0.09658254 0.102548   0.10172684 0.10336916\n",
            " 0.09919092 0.10013283 0.09636517 0.10211327 0.10307934 0.10228233\n",
            " 0.10032605 0.10008453 0.09520589 0.09781427 0.08648714 0.08709093\n",
            " 0.09105181 0.09218693 0.08407197 0.08180171 0.07421809 0.07953146\n",
            " 0.0858637  0.08455805 0.08419646 0.08446757 0.08507646 0.08582193\n",
            " 0.08659039 0.08732706 0.08801025 0.08863431]\n",
            "10 day output [[0.08920052]]\n",
            "11 day input [0.08346818 0.0939017  0.09663084 0.08921628 0.08878155 0.09382925\n",
            " 0.08904722 0.08477237 0.08643884 0.09658254 0.10827195 0.11358532\n",
            " 0.12288371 0.12346335 0.12080667 0.10880328 0.09641348 0.10167854\n",
            " 0.10373143 0.10119551 0.10952783 0.10800628 0.10836855 0.1061949\n",
            " 0.1046975  0.10406956 0.1046492  0.09938413 0.09370849 0.09097935\n",
            " 0.09136578 0.08201908 0.08168096 0.08044922 0.06991909 0.07057119\n",
            " 0.08634223 0.07989373 0.07250332 0.06784205 0.07095761 0.05873687\n",
            " 0.07014853 0.06747977 0.0722618  0.0700157  0.07716459 0.08098056\n",
            " 0.07902427 0.06880811 0.06750392 0.07571549 0.0736626  0.06774544\n",
            " 0.06895302 0.07045043 0.07088516 0.06728656 0.07272069 0.07477358\n",
            " 0.08177756 0.08252626 0.0866079  0.09254921 0.09891317 0.09467456\n",
            " 0.10237894 0.09658254 0.102548   0.10172684 0.10336916 0.09919092\n",
            " 0.10013283 0.09636517 0.10211327 0.10307934 0.10228233 0.10032605\n",
            " 0.10008453 0.09520589 0.09781427 0.08648714 0.08709093 0.09105181\n",
            " 0.09218693 0.08407197 0.08180171 0.07421809 0.07953146 0.0858637\n",
            " 0.08455805 0.08419646 0.08446757 0.08507646 0.08582193 0.08659039\n",
            " 0.08732706 0.08801025 0.08863431 0.08920052]\n",
            "11 day output [[0.08971334]]\n",
            "12 day input [0.0939017  0.09663084 0.08921628 0.08878155 0.09382925 0.08904722\n",
            " 0.08477237 0.08643884 0.09658254 0.10827195 0.11358532 0.12288371\n",
            " 0.12346335 0.12080667 0.10880328 0.09641348 0.10167854 0.10373143\n",
            " 0.10119551 0.10952783 0.10800628 0.10836855 0.1061949  0.1046975\n",
            " 0.10406956 0.1046492  0.09938413 0.09370849 0.09097935 0.09136578\n",
            " 0.08201908 0.08168096 0.08044922 0.06991909 0.07057119 0.08634223\n",
            " 0.07989373 0.07250332 0.06784205 0.07095761 0.05873687 0.07014853\n",
            " 0.06747977 0.0722618  0.0700157  0.07716459 0.08098056 0.07902427\n",
            " 0.06880811 0.06750392 0.07571549 0.0736626  0.06774544 0.06895302\n",
            " 0.07045043 0.07088516 0.06728656 0.07272069 0.07477358 0.08177756\n",
            " 0.08252626 0.0866079  0.09254921 0.09891317 0.09467456 0.10237894\n",
            " 0.09658254 0.102548   0.10172684 0.10336916 0.09919092 0.10013283\n",
            " 0.09636517 0.10211327 0.10307934 0.10228233 0.10032605 0.10008453\n",
            " 0.09520589 0.09781427 0.08648714 0.08709093 0.09105181 0.09218693\n",
            " 0.08407197 0.08180171 0.07421809 0.07953146 0.0858637  0.08455805\n",
            " 0.08419646 0.08446757 0.08507646 0.08582193 0.08659039 0.08732706\n",
            " 0.08801025 0.08863431 0.08920052 0.08971334]\n",
            "12 day output [[0.09017859]]\n",
            "13 day input [0.09663084 0.08921628 0.08878155 0.09382925 0.08904722 0.08477237\n",
            " 0.08643884 0.09658254 0.10827195 0.11358532 0.12288371 0.12346335\n",
            " 0.12080667 0.10880328 0.09641348 0.10167854 0.10373143 0.10119551\n",
            " 0.10952783 0.10800628 0.10836855 0.1061949  0.1046975  0.10406956\n",
            " 0.1046492  0.09938413 0.09370849 0.09097935 0.09136578 0.08201908\n",
            " 0.08168096 0.08044922 0.06991909 0.07057119 0.08634223 0.07989373\n",
            " 0.07250332 0.06784205 0.07095761 0.05873687 0.07014853 0.06747977\n",
            " 0.0722618  0.0700157  0.07716459 0.08098056 0.07902427 0.06880811\n",
            " 0.06750392 0.07571549 0.0736626  0.06774544 0.06895302 0.07045043\n",
            " 0.07088516 0.06728656 0.07272069 0.07477358 0.08177756 0.08252626\n",
            " 0.0866079  0.09254921 0.09891317 0.09467456 0.10237894 0.09658254\n",
            " 0.102548   0.10172684 0.10336916 0.09919092 0.10013283 0.09636517\n",
            " 0.10211327 0.10307934 0.10228233 0.10032605 0.10008453 0.09520589\n",
            " 0.09781427 0.08648714 0.08709093 0.09105181 0.09218693 0.08407197\n",
            " 0.08180171 0.07421809 0.07953146 0.0858637  0.08455805 0.08419646\n",
            " 0.08446757 0.08507646 0.08582193 0.08659039 0.08732706 0.08801025\n",
            " 0.08863431 0.08920052 0.08971334 0.09017859]\n",
            "13 day output [[0.09060297]]\n",
            "14 day input [0.08921628 0.08878155 0.09382925 0.08904722 0.08477237 0.08643884\n",
            " 0.09658254 0.10827195 0.11358532 0.12288371 0.12346335 0.12080667\n",
            " 0.10880328 0.09641348 0.10167854 0.10373143 0.10119551 0.10952783\n",
            " 0.10800628 0.10836855 0.1061949  0.1046975  0.10406956 0.1046492\n",
            " 0.09938413 0.09370849 0.09097935 0.09136578 0.08201908 0.08168096\n",
            " 0.08044922 0.06991909 0.07057119 0.08634223 0.07989373 0.07250332\n",
            " 0.06784205 0.07095761 0.05873687 0.07014853 0.06747977 0.0722618\n",
            " 0.0700157  0.07716459 0.08098056 0.07902427 0.06880811 0.06750392\n",
            " 0.07571549 0.0736626  0.06774544 0.06895302 0.07045043 0.07088516\n",
            " 0.06728656 0.07272069 0.07477358 0.08177756 0.08252626 0.0866079\n",
            " 0.09254921 0.09891317 0.09467456 0.10237894 0.09658254 0.102548\n",
            " 0.10172684 0.10336916 0.09919092 0.10013283 0.09636517 0.10211327\n",
            " 0.10307934 0.10228233 0.10032605 0.10008453 0.09520589 0.09781427\n",
            " 0.08648714 0.08709093 0.09105181 0.09218693 0.08407197 0.08180171\n",
            " 0.07421809 0.07953146 0.0858637  0.08455805 0.08419646 0.08446757\n",
            " 0.08507646 0.08582193 0.08659039 0.08732706 0.08801025 0.08863431\n",
            " 0.08920052 0.08971334 0.09017859 0.09060297]\n",
            "14 day output [[0.09099359]]\n",
            "15 day input [0.08878155 0.09382925 0.08904722 0.08477237 0.08643884 0.09658254\n",
            " 0.10827195 0.11358532 0.12288371 0.12346335 0.12080667 0.10880328\n",
            " 0.09641348 0.10167854 0.10373143 0.10119551 0.10952783 0.10800628\n",
            " 0.10836855 0.1061949  0.1046975  0.10406956 0.1046492  0.09938413\n",
            " 0.09370849 0.09097935 0.09136578 0.08201908 0.08168096 0.08044922\n",
            " 0.06991909 0.07057119 0.08634223 0.07989373 0.07250332 0.06784205\n",
            " 0.07095761 0.05873687 0.07014853 0.06747977 0.0722618  0.0700157\n",
            " 0.07716459 0.08098056 0.07902427 0.06880811 0.06750392 0.07571549\n",
            " 0.0736626  0.06774544 0.06895302 0.07045043 0.07088516 0.06728656\n",
            " 0.07272069 0.07477358 0.08177756 0.08252626 0.0866079  0.09254921\n",
            " 0.09891317 0.09467456 0.10237894 0.09658254 0.102548   0.10172684\n",
            " 0.10336916 0.09919092 0.10013283 0.09636517 0.10211327 0.10307934\n",
            " 0.10228233 0.10032605 0.10008453 0.09520589 0.09781427 0.08648714\n",
            " 0.08709093 0.09105181 0.09218693 0.08407197 0.08180171 0.07421809\n",
            " 0.07953146 0.0858637  0.08455805 0.08419646 0.08446757 0.08507646\n",
            " 0.08582193 0.08659039 0.08732706 0.08801025 0.08863431 0.08920052\n",
            " 0.08971334 0.09017859 0.09060297 0.09099359]\n",
            "15 day output [[0.09135777]]\n",
            "16 day input [0.09382925 0.08904722 0.08477237 0.08643884 0.09658254 0.10827195\n",
            " 0.11358532 0.12288371 0.12346335 0.12080667 0.10880328 0.09641348\n",
            " 0.10167854 0.10373143 0.10119551 0.10952783 0.10800628 0.10836855\n",
            " 0.1061949  0.1046975  0.10406956 0.1046492  0.09938413 0.09370849\n",
            " 0.09097935 0.09136578 0.08201908 0.08168096 0.08044922 0.06991909\n",
            " 0.07057119 0.08634223 0.07989373 0.07250332 0.06784205 0.07095761\n",
            " 0.05873687 0.07014853 0.06747977 0.0722618  0.0700157  0.07716459\n",
            " 0.08098056 0.07902427 0.06880811 0.06750392 0.07571549 0.0736626\n",
            " 0.06774544 0.06895302 0.07045043 0.07088516 0.06728656 0.07272069\n",
            " 0.07477358 0.08177756 0.08252626 0.0866079  0.09254921 0.09891317\n",
            " 0.09467456 0.10237894 0.09658254 0.102548   0.10172684 0.10336916\n",
            " 0.09919092 0.10013283 0.09636517 0.10211327 0.10307934 0.10228233\n",
            " 0.10032605 0.10008453 0.09520589 0.09781427 0.08648714 0.08709093\n",
            " 0.09105181 0.09218693 0.08407197 0.08180171 0.07421809 0.07953146\n",
            " 0.0858637  0.08455805 0.08419646 0.08446757 0.08507646 0.08582193\n",
            " 0.08659039 0.08732706 0.08801025 0.08863431 0.08920052 0.08971334\n",
            " 0.09017859 0.09060297 0.09099359 0.09135777]\n",
            "16 day output [[0.09170265]]\n",
            "17 day input [0.08904722 0.08477237 0.08643884 0.09658254 0.10827195 0.11358532\n",
            " 0.12288371 0.12346335 0.12080667 0.10880328 0.09641348 0.10167854\n",
            " 0.10373143 0.10119551 0.10952783 0.10800628 0.10836855 0.1061949\n",
            " 0.1046975  0.10406956 0.1046492  0.09938413 0.09370849 0.09097935\n",
            " 0.09136578 0.08201908 0.08168096 0.08044922 0.06991909 0.07057119\n",
            " 0.08634223 0.07989373 0.07250332 0.06784205 0.07095761 0.05873687\n",
            " 0.07014853 0.06747977 0.0722618  0.0700157  0.07716459 0.08098056\n",
            " 0.07902427 0.06880811 0.06750392 0.07571549 0.0736626  0.06774544\n",
            " 0.06895302 0.07045043 0.07088516 0.06728656 0.07272069 0.07477358\n",
            " 0.08177756 0.08252626 0.0866079  0.09254921 0.09891317 0.09467456\n",
            " 0.10237894 0.09658254 0.102548   0.10172684 0.10336916 0.09919092\n",
            " 0.10013283 0.09636517 0.10211327 0.10307934 0.10228233 0.10032605\n",
            " 0.10008453 0.09520589 0.09781427 0.08648714 0.08709093 0.09105181\n",
            " 0.09218693 0.08407197 0.08180171 0.07421809 0.07953146 0.0858637\n",
            " 0.08455805 0.08419646 0.08446757 0.08507646 0.08582193 0.08659039\n",
            " 0.08732706 0.08801025 0.08863431 0.08920052 0.08971334 0.09017859\n",
            " 0.09060297 0.09099359 0.09135777 0.09170265]\n",
            "17 day output [[0.09203493]]\n",
            "18 day input [0.08477237 0.08643884 0.09658254 0.10827195 0.11358532 0.12288371\n",
            " 0.12346335 0.12080667 0.10880328 0.09641348 0.10167854 0.10373143\n",
            " 0.10119551 0.10952783 0.10800628 0.10836855 0.1061949  0.1046975\n",
            " 0.10406956 0.1046492  0.09938413 0.09370849 0.09097935 0.09136578\n",
            " 0.08201908 0.08168096 0.08044922 0.06991909 0.07057119 0.08634223\n",
            " 0.07989373 0.07250332 0.06784205 0.07095761 0.05873687 0.07014853\n",
            " 0.06747977 0.0722618  0.0700157  0.07716459 0.08098056 0.07902427\n",
            " 0.06880811 0.06750392 0.07571549 0.0736626  0.06774544 0.06895302\n",
            " 0.07045043 0.07088516 0.06728656 0.07272069 0.07477358 0.08177756\n",
            " 0.08252626 0.0866079  0.09254921 0.09891317 0.09467456 0.10237894\n",
            " 0.09658254 0.102548   0.10172684 0.10336916 0.09919092 0.10013283\n",
            " 0.09636517 0.10211327 0.10307934 0.10228233 0.10032605 0.10008453\n",
            " 0.09520589 0.09781427 0.08648714 0.08709093 0.09105181 0.09218693\n",
            " 0.08407197 0.08180171 0.07421809 0.07953146 0.0858637  0.08455805\n",
            " 0.08419646 0.08446757 0.08507646 0.08582193 0.08659039 0.08732706\n",
            " 0.08801025 0.08863431 0.08920052 0.08971334 0.09017859 0.09060297\n",
            " 0.09099359 0.09135777 0.09170265 0.09203493]\n",
            "18 day output [[0.09236051]]\n",
            "19 day input [0.08643884 0.09658254 0.10827195 0.11358532 0.12288371 0.12346335\n",
            " 0.12080667 0.10880328 0.09641348 0.10167854 0.10373143 0.10119551\n",
            " 0.10952783 0.10800628 0.10836855 0.1061949  0.1046975  0.10406956\n",
            " 0.1046492  0.09938413 0.09370849 0.09097935 0.09136578 0.08201908\n",
            " 0.08168096 0.08044922 0.06991909 0.07057119 0.08634223 0.07989373\n",
            " 0.07250332 0.06784205 0.07095761 0.05873687 0.07014853 0.06747977\n",
            " 0.0722618  0.0700157  0.07716459 0.08098056 0.07902427 0.06880811\n",
            " 0.06750392 0.07571549 0.0736626  0.06774544 0.06895302 0.07045043\n",
            " 0.07088516 0.06728656 0.07272069 0.07477358 0.08177756 0.08252626\n",
            " 0.0866079  0.09254921 0.09891317 0.09467456 0.10237894 0.09658254\n",
            " 0.102548   0.10172684 0.10336916 0.09919092 0.10013283 0.09636517\n",
            " 0.10211327 0.10307934 0.10228233 0.10032605 0.10008453 0.09520589\n",
            " 0.09781427 0.08648714 0.08709093 0.09105181 0.09218693 0.08407197\n",
            " 0.08180171 0.07421809 0.07953146 0.0858637  0.08455805 0.08419646\n",
            " 0.08446757 0.08507646 0.08582193 0.08659039 0.08732706 0.08801025\n",
            " 0.08863431 0.08920052 0.08971334 0.09017859 0.09060297 0.09099359\n",
            " 0.09135777 0.09170265 0.09203493 0.09236051]\n",
            "19 day output [[0.09268446]]\n",
            "20 day input [0.09658254 0.10827195 0.11358532 0.12288371 0.12346335 0.12080667\n",
            " 0.10880328 0.09641348 0.10167854 0.10373143 0.10119551 0.10952783\n",
            " 0.10800628 0.10836855 0.1061949  0.1046975  0.10406956 0.1046492\n",
            " 0.09938413 0.09370849 0.09097935 0.09136578 0.08201908 0.08168096\n",
            " 0.08044922 0.06991909 0.07057119 0.08634223 0.07989373 0.07250332\n",
            " 0.06784205 0.07095761 0.05873687 0.07014853 0.06747977 0.0722618\n",
            " 0.0700157  0.07716459 0.08098056 0.07902427 0.06880811 0.06750392\n",
            " 0.07571549 0.0736626  0.06774544 0.06895302 0.07045043 0.07088516\n",
            " 0.06728656 0.07272069 0.07477358 0.08177756 0.08252626 0.0866079\n",
            " 0.09254921 0.09891317 0.09467456 0.10237894 0.09658254 0.102548\n",
            " 0.10172684 0.10336916 0.09919092 0.10013283 0.09636517 0.10211327\n",
            " 0.10307934 0.10228233 0.10032605 0.10008453 0.09520589 0.09781427\n",
            " 0.08648714 0.08709093 0.09105181 0.09218693 0.08407197 0.08180171\n",
            " 0.07421809 0.07953146 0.0858637  0.08455805 0.08419646 0.08446757\n",
            " 0.08507646 0.08582193 0.08659039 0.08732706 0.08801025 0.08863431\n",
            " 0.08920052 0.08971334 0.09017859 0.09060297 0.09099359 0.09135777\n",
            " 0.09170265 0.09203493 0.09236051 0.09268446]\n",
            "20 day output [[0.09301084]]\n",
            "21 day input [0.10827195 0.11358532 0.12288371 0.12346335 0.12080667 0.10880328\n",
            " 0.09641348 0.10167854 0.10373143 0.10119551 0.10952783 0.10800628\n",
            " 0.10836855 0.1061949  0.1046975  0.10406956 0.1046492  0.09938413\n",
            " 0.09370849 0.09097935 0.09136578 0.08201908 0.08168096 0.08044922\n",
            " 0.06991909 0.07057119 0.08634223 0.07989373 0.07250332 0.06784205\n",
            " 0.07095761 0.05873687 0.07014853 0.06747977 0.0722618  0.0700157\n",
            " 0.07716459 0.08098056 0.07902427 0.06880811 0.06750392 0.07571549\n",
            " 0.0736626  0.06774544 0.06895302 0.07045043 0.07088516 0.06728656\n",
            " 0.07272069 0.07477358 0.08177756 0.08252626 0.0866079  0.09254921\n",
            " 0.09891317 0.09467456 0.10237894 0.09658254 0.102548   0.10172684\n",
            " 0.10336916 0.09919092 0.10013283 0.09636517 0.10211327 0.10307934\n",
            " 0.10228233 0.10032605 0.10008453 0.09520589 0.09781427 0.08648714\n",
            " 0.08709093 0.09105181 0.09218693 0.08407197 0.08180171 0.07421809\n",
            " 0.07953146 0.0858637  0.08455805 0.08419646 0.08446757 0.08507646\n",
            " 0.08582193 0.08659039 0.08732706 0.08801025 0.08863431 0.08920052\n",
            " 0.08971334 0.09017859 0.09060297 0.09099359 0.09135777 0.09170265\n",
            " 0.09203493 0.09236051 0.09268446 0.09301084]\n",
            "21 day output [[0.09334265]]\n",
            "22 day input [0.11358532 0.12288371 0.12346335 0.12080667 0.10880328 0.09641348\n",
            " 0.10167854 0.10373143 0.10119551 0.10952783 0.10800628 0.10836855\n",
            " 0.1061949  0.1046975  0.10406956 0.1046492  0.09938413 0.09370849\n",
            " 0.09097935 0.09136578 0.08201908 0.08168096 0.08044922 0.06991909\n",
            " 0.07057119 0.08634223 0.07989373 0.07250332 0.06784205 0.07095761\n",
            " 0.05873687 0.07014853 0.06747977 0.0722618  0.0700157  0.07716459\n",
            " 0.08098056 0.07902427 0.06880811 0.06750392 0.07571549 0.0736626\n",
            " 0.06774544 0.06895302 0.07045043 0.07088516 0.06728656 0.07272069\n",
            " 0.07477358 0.08177756 0.08252626 0.0866079  0.09254921 0.09891317\n",
            " 0.09467456 0.10237894 0.09658254 0.102548   0.10172684 0.10336916\n",
            " 0.09919092 0.10013283 0.09636517 0.10211327 0.10307934 0.10228233\n",
            " 0.10032605 0.10008453 0.09520589 0.09781427 0.08648714 0.08709093\n",
            " 0.09105181 0.09218693 0.08407197 0.08180171 0.07421809 0.07953146\n",
            " 0.0858637  0.08455805 0.08419646 0.08446757 0.08507646 0.08582193\n",
            " 0.08659039 0.08732706 0.08801025 0.08863431 0.08920052 0.08971334\n",
            " 0.09017859 0.09060297 0.09099359 0.09135777 0.09170265 0.09203493\n",
            " 0.09236051 0.09268446 0.09301084 0.09334265]\n",
            "22 day output [[0.09368212]]\n",
            "23 day input [0.12288371 0.12346335 0.12080667 0.10880328 0.09641348 0.10167854\n",
            " 0.10373143 0.10119551 0.10952783 0.10800628 0.10836855 0.1061949\n",
            " 0.1046975  0.10406956 0.1046492  0.09938413 0.09370849 0.09097935\n",
            " 0.09136578 0.08201908 0.08168096 0.08044922 0.06991909 0.07057119\n",
            " 0.08634223 0.07989373 0.07250332 0.06784205 0.07095761 0.05873687\n",
            " 0.07014853 0.06747977 0.0722618  0.0700157  0.07716459 0.08098056\n",
            " 0.07902427 0.06880811 0.06750392 0.07571549 0.0736626  0.06774544\n",
            " 0.06895302 0.07045043 0.07088516 0.06728656 0.07272069 0.07477358\n",
            " 0.08177756 0.08252626 0.0866079  0.09254921 0.09891317 0.09467456\n",
            " 0.10237894 0.09658254 0.102548   0.10172684 0.10336916 0.09919092\n",
            " 0.10013283 0.09636517 0.10211327 0.10307934 0.10228233 0.10032605\n",
            " 0.10008453 0.09520589 0.09781427 0.08648714 0.08709093 0.09105181\n",
            " 0.09218693 0.08407197 0.08180171 0.07421809 0.07953146 0.0858637\n",
            " 0.08455805 0.08419646 0.08446757 0.08507646 0.08582193 0.08659039\n",
            " 0.08732706 0.08801025 0.08863431 0.08920052 0.08971334 0.09017859\n",
            " 0.09060297 0.09099359 0.09135777 0.09170265 0.09203493 0.09236051\n",
            " 0.09268446 0.09301084 0.09334265 0.09368212]\n",
            "23 day output [[0.09403048]]\n",
            "24 day input [0.12346335 0.12080667 0.10880328 0.09641348 0.10167854 0.10373143\n",
            " 0.10119551 0.10952783 0.10800628 0.10836855 0.1061949  0.1046975\n",
            " 0.10406956 0.1046492  0.09938413 0.09370849 0.09097935 0.09136578\n",
            " 0.08201908 0.08168096 0.08044922 0.06991909 0.07057119 0.08634223\n",
            " 0.07989373 0.07250332 0.06784205 0.07095761 0.05873687 0.07014853\n",
            " 0.06747977 0.0722618  0.0700157  0.07716459 0.08098056 0.07902427\n",
            " 0.06880811 0.06750392 0.07571549 0.0736626  0.06774544 0.06895302\n",
            " 0.07045043 0.07088516 0.06728656 0.07272069 0.07477358 0.08177756\n",
            " 0.08252626 0.0866079  0.09254921 0.09891317 0.09467456 0.10237894\n",
            " 0.09658254 0.102548   0.10172684 0.10336916 0.09919092 0.10013283\n",
            " 0.09636517 0.10211327 0.10307934 0.10228233 0.10032605 0.10008453\n",
            " 0.09520589 0.09781427 0.08648714 0.08709093 0.09105181 0.09218693\n",
            " 0.08407197 0.08180171 0.07421809 0.07953146 0.0858637  0.08455805\n",
            " 0.08419646 0.08446757 0.08507646 0.08582193 0.08659039 0.08732706\n",
            " 0.08801025 0.08863431 0.08920052 0.08971334 0.09017859 0.09060297\n",
            " 0.09099359 0.09135777 0.09170265 0.09203493 0.09236051 0.09268446\n",
            " 0.09301084 0.09334265 0.09368212 0.09403048]\n",
            "24 day output [[0.0943883]]\n",
            "25 day input [0.12080667 0.10880328 0.09641348 0.10167854 0.10373143 0.10119551\n",
            " 0.10952783 0.10800628 0.10836855 0.1061949  0.1046975  0.10406956\n",
            " 0.1046492  0.09938413 0.09370849 0.09097935 0.09136578 0.08201908\n",
            " 0.08168096 0.08044922 0.06991909 0.07057119 0.08634223 0.07989373\n",
            " 0.07250332 0.06784205 0.07095761 0.05873687 0.07014853 0.06747977\n",
            " 0.0722618  0.0700157  0.07716459 0.08098056 0.07902427 0.06880811\n",
            " 0.06750392 0.07571549 0.0736626  0.06774544 0.06895302 0.07045043\n",
            " 0.07088516 0.06728656 0.07272069 0.07477358 0.08177756 0.08252626\n",
            " 0.0866079  0.09254921 0.09891317 0.09467456 0.10237894 0.09658254\n",
            " 0.102548   0.10172684 0.10336916 0.09919092 0.10013283 0.09636517\n",
            " 0.10211327 0.10307934 0.10228233 0.10032605 0.10008453 0.09520589\n",
            " 0.09781427 0.08648714 0.08709093 0.09105181 0.09218693 0.08407197\n",
            " 0.08180171 0.07421809 0.07953146 0.0858637  0.08455805 0.08419646\n",
            " 0.08446757 0.08507646 0.08582193 0.08659039 0.08732706 0.08801025\n",
            " 0.08863431 0.08920052 0.08971334 0.09017859 0.09060297 0.09099359\n",
            " 0.09135777 0.09170265 0.09203493 0.09236051 0.09268446 0.09301084\n",
            " 0.09334265 0.09368212 0.09403048 0.0943883 ]\n",
            "25 day output [[0.09475552]]\n",
            "26 day input [0.10880328 0.09641348 0.10167854 0.10373143 0.10119551 0.10952783\n",
            " 0.10800628 0.10836855 0.1061949  0.1046975  0.10406956 0.1046492\n",
            " 0.09938413 0.09370849 0.09097935 0.09136578 0.08201908 0.08168096\n",
            " 0.08044922 0.06991909 0.07057119 0.08634223 0.07989373 0.07250332\n",
            " 0.06784205 0.07095761 0.05873687 0.07014853 0.06747977 0.0722618\n",
            " 0.0700157  0.07716459 0.08098056 0.07902427 0.06880811 0.06750392\n",
            " 0.07571549 0.0736626  0.06774544 0.06895302 0.07045043 0.07088516\n",
            " 0.06728656 0.07272069 0.07477358 0.08177756 0.08252626 0.0866079\n",
            " 0.09254921 0.09891317 0.09467456 0.10237894 0.09658254 0.102548\n",
            " 0.10172684 0.10336916 0.09919092 0.10013283 0.09636517 0.10211327\n",
            " 0.10307934 0.10228233 0.10032605 0.10008453 0.09520589 0.09781427\n",
            " 0.08648714 0.08709093 0.09105181 0.09218693 0.08407197 0.08180171\n",
            " 0.07421809 0.07953146 0.0858637  0.08455805 0.08419646 0.08446757\n",
            " 0.08507646 0.08582193 0.08659039 0.08732706 0.08801025 0.08863431\n",
            " 0.08920052 0.08971334 0.09017859 0.09060297 0.09099359 0.09135777\n",
            " 0.09170265 0.09203493 0.09236051 0.09268446 0.09301084 0.09334265\n",
            " 0.09368212 0.09403048 0.0943883  0.09475552]\n",
            "26 day output [[0.09513172]]\n",
            "27 day input [0.09641348 0.10167854 0.10373143 0.10119551 0.10952783 0.10800628\n",
            " 0.10836855 0.1061949  0.1046975  0.10406956 0.1046492  0.09938413\n",
            " 0.09370849 0.09097935 0.09136578 0.08201908 0.08168096 0.08044922\n",
            " 0.06991909 0.07057119 0.08634223 0.07989373 0.07250332 0.06784205\n",
            " 0.07095761 0.05873687 0.07014853 0.06747977 0.0722618  0.0700157\n",
            " 0.07716459 0.08098056 0.07902427 0.06880811 0.06750392 0.07571549\n",
            " 0.0736626  0.06774544 0.06895302 0.07045043 0.07088516 0.06728656\n",
            " 0.07272069 0.07477358 0.08177756 0.08252626 0.0866079  0.09254921\n",
            " 0.09891317 0.09467456 0.10237894 0.09658254 0.102548   0.10172684\n",
            " 0.10336916 0.09919092 0.10013283 0.09636517 0.10211327 0.10307934\n",
            " 0.10228233 0.10032605 0.10008453 0.09520589 0.09781427 0.08648714\n",
            " 0.08709093 0.09105181 0.09218693 0.08407197 0.08180171 0.07421809\n",
            " 0.07953146 0.0858637  0.08455805 0.08419646 0.08446757 0.08507646\n",
            " 0.08582193 0.08659039 0.08732706 0.08801025 0.08863431 0.08920052\n",
            " 0.08971334 0.09017859 0.09060297 0.09099359 0.09135777 0.09170265\n",
            " 0.09203493 0.09236051 0.09268446 0.09301084 0.09334265 0.09368212\n",
            " 0.09403048 0.0943883  0.09475552 0.09513172]\n",
            "27 day output [[0.09551606]]\n",
            "28 day input [0.10167854 0.10373143 0.10119551 0.10952783 0.10800628 0.10836855\n",
            " 0.1061949  0.1046975  0.10406956 0.1046492  0.09938413 0.09370849\n",
            " 0.09097935 0.09136578 0.08201908 0.08168096 0.08044922 0.06991909\n",
            " 0.07057119 0.08634223 0.07989373 0.07250332 0.06784205 0.07095761\n",
            " 0.05873687 0.07014853 0.06747977 0.0722618  0.0700157  0.07716459\n",
            " 0.08098056 0.07902427 0.06880811 0.06750392 0.07571549 0.0736626\n",
            " 0.06774544 0.06895302 0.07045043 0.07088516 0.06728656 0.07272069\n",
            " 0.07477358 0.08177756 0.08252626 0.0866079  0.09254921 0.09891317\n",
            " 0.09467456 0.10237894 0.09658254 0.102548   0.10172684 0.10336916\n",
            " 0.09919092 0.10013283 0.09636517 0.10211327 0.10307934 0.10228233\n",
            " 0.10032605 0.10008453 0.09520589 0.09781427 0.08648714 0.08709093\n",
            " 0.09105181 0.09218693 0.08407197 0.08180171 0.07421809 0.07953146\n",
            " 0.0858637  0.08455805 0.08419646 0.08446757 0.08507646 0.08582193\n",
            " 0.08659039 0.08732706 0.08801025 0.08863431 0.08920052 0.08971334\n",
            " 0.09017859 0.09060297 0.09099359 0.09135777 0.09170265 0.09203493\n",
            " 0.09236051 0.09268446 0.09301084 0.09334265 0.09368212 0.09403048\n",
            " 0.0943883  0.09475552 0.09513172 0.09551606]\n",
            "28 day output [[0.09590754]]\n",
            "29 day input [0.10373143 0.10119551 0.10952783 0.10800628 0.10836855 0.1061949\n",
            " 0.1046975  0.10406956 0.1046492  0.09938413 0.09370849 0.09097935\n",
            " 0.09136578 0.08201908 0.08168096 0.08044922 0.06991909 0.07057119\n",
            " 0.08634223 0.07989373 0.07250332 0.06784205 0.07095761 0.05873687\n",
            " 0.07014853 0.06747977 0.0722618  0.0700157  0.07716459 0.08098056\n",
            " 0.07902427 0.06880811 0.06750392 0.07571549 0.0736626  0.06774544\n",
            " 0.06895302 0.07045043 0.07088516 0.06728656 0.07272069 0.07477358\n",
            " 0.08177756 0.08252626 0.0866079  0.09254921 0.09891317 0.09467456\n",
            " 0.10237894 0.09658254 0.102548   0.10172684 0.10336916 0.09919092\n",
            " 0.10013283 0.09636517 0.10211327 0.10307934 0.10228233 0.10032605\n",
            " 0.10008453 0.09520589 0.09781427 0.08648714 0.08709093 0.09105181\n",
            " 0.09218693 0.08407197 0.08180171 0.07421809 0.07953146 0.0858637\n",
            " 0.08455805 0.08419646 0.08446757 0.08507646 0.08582193 0.08659039\n",
            " 0.08732706 0.08801025 0.08863431 0.08920052 0.08971334 0.09017859\n",
            " 0.09060297 0.09099359 0.09135777 0.09170265 0.09203493 0.09236051\n",
            " 0.09268446 0.09301084 0.09334265 0.09368212 0.09403048 0.0943883\n",
            " 0.09475552 0.09513172 0.09551606 0.09590754]\n",
            "29 day output [[0.09630506]]\n",
            "[[0.08586370199918747], [0.08455805480480194], [0.08419645577669144], [0.0844675749540329], [0.0850764587521553], [0.08582192659378052], [0.08659038692712784], [0.08732706308364868], [0.08801025152206421], [0.08863431215286255], [0.08920051902532578], [0.08971334248781204], [0.09017858654260635], [0.09060297161340714], [0.09099359065294266], [0.0913577675819397], [0.0917026549577713], [0.09203492850065231], [0.09236051142215729], [0.09268446266651154], [0.09301083534955978], [0.09334265440702438], [0.09368211776018143], [0.0940304845571518], [0.09438829869031906], [0.09475552290678024], [0.09513171762228012], [0.09551605582237244], [0.0959075391292572], [0.09630505740642548]]\n"
          ],
          "name": "stdout"
        }
      ]
    },
    {
      "cell_type": "code",
      "metadata": {
        "id": "Ccf2_8BQ16Df"
      },
      "source": [
        "day_new=np.arange(1,101)\n",
        "day_pred=np.arange(101,131)"
      ],
      "execution_count": 25,
      "outputs": []
    },
    {
      "cell_type": "code",
      "metadata": {
        "id": "pqZDeaCr2Cw7"
      },
      "source": [
        "import matplotlib.pyplot as plt"
      ],
      "execution_count": 26,
      "outputs": []
    },
    {
      "cell_type": "code",
      "metadata": {
        "colab": {
          "base_uri": "https://localhost:8080/"
        },
        "id": "40CFe1g72DWq",
        "outputId": "a814b95c-efd3-49ef-d7ce-c01a8f459f7f"
      },
      "source": [
        "len(df1)\n"
      ],
      "execution_count": 27,
      "outputs": [
        {
          "output_type": "execute_result",
          "data": {
            "text/plain": [
              "1258"
            ]
          },
          "metadata": {
            "tags": []
          },
          "execution_count": 27
        }
      ]
    },
    {
      "cell_type": "code",
      "metadata": {
        "colab": {
          "base_uri": "https://localhost:8080/",
          "height": 284
        },
        "id": "jyrtfwfZ2EgL",
        "outputId": "440c00d3-9fc9-4e6d-c739-eeb59d602d61"
      },
      "source": [
        "plt.plot(day_new,scaler.inverse_transform(df1[1158:]))\n",
        "plt.plot(day_pred,scaler.inverse_transform(lst_output))"
      ],
      "execution_count": 28,
      "outputs": [
        {
          "output_type": "execute_result",
          "data": {
            "text/plain": [
              "[<matplotlib.lines.Line2D at 0x7fb3a4e69910>]"
            ]
          },
          "metadata": {
            "tags": []
          },
          "execution_count": 28
        },
        {
          "output_type": "display_data",
          "data": {
            "image/png": "[encoded data removed]",
            "text/plain": [
              "<Figure size 432x288 with 1 Axes>"
            ]
          },
          "metadata": {
            "tags": [],
            "needs_background": "light"
          }
        }
      ]
    },
    {
      "cell_type": "code",
      "metadata": {
        "id": "OdkMJ2UU2F5D",
        "colab": {
          "base_uri": "https://localhost:8080/",
          "height": 284
        },
        "outputId": "15099823-f931-4941-e45e-3686dd43314d"
      },
      "source": [
        "df3=df1.tolist()\n",
        "df3.extend(lst_output)\n",
        "plt.plot(df3[1200:])"
      ],
      "execution_count": 29,
      "outputs": [
        {
          "output_type": "execute_result",
          "data": {
            "text/plain": [
              "[<matplotlib.lines.Line2D at 0x7fb3a4f28a90>]"
            ]
          },
          "metadata": {
            "tags": []
          },
          "execution_count": 29
        },
        {
          "output_type": "display_data",
          "data": {
            "image/png": "[encoded data removed]",
            "text/plain": [
              "<Figure size 432x288 with 1 Axes>"
            ]
          },
          "metadata": {
            "tags": [],
            "needs_background": "light"
          }
        }
      ]
    },
    {
      "cell_type": "code",
      "metadata": {
        "id": "IC-_4Gwo2Ijm"
      },
      "source": [
        "df3=scaler.inverse_transform(df3).tolist()\n"
      ],
      "execution_count": 30,
      "outputs": []
    },
    {
      "cell_type": "code",
      "metadata": {
        "id": "xJPSgNBS2KWK",
        "colab": {
          "base_uri": "https://localhost:8080/",
          "height": 284
        },
        "outputId": "496d69d5-9ce5-4de7-cc47-dc27b8bab4a3"
      },
      "source": [
        "plt.plot(df3)\n"
      ],
      "execution_count": 31,
      "outputs": [
        {
          "output_type": "execute_result",
          "data": {
            "text/plain": [
              "[<matplotlib.lines.Line2D at 0x7fb3a546ed50>]"
            ]
          },
          "metadata": {
            "tags": []
          },
          "execution_count": 31
        },
        {
          "output_type": "display_data",
          "data": {
            "image/png": "[encoded data removed]",
            "text/plain": [
              "<Figure size 432x288 with 1 Axes>"
            ]
          },
          "metadata": {
            "tags": [],
            "needs_background": "light"
          }
        }
      ]
    }
  ]
}